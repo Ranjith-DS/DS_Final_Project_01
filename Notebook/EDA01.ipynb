{
 "cells": [
  {
   "cell_type": "markdown",
   "metadata": {},
   "source": [
    "## Churn Prediction\n",
    "\n",
    "required table :\n",
    "1. customer\n",
    "2. cust_order\n",
    "3. order_status\n",
    "4. order_history\n",
    "5. address\n",
    "6. address_status\n",
    "7. order_line\n",
    "8. shipping_method"
   ]
  },
  {
   "cell_type": "code",
   "execution_count": 3,
   "metadata": {},
   "outputs": [],
   "source": [
    "import pandas as pd\n",
    "import numpy as np\n",
    "import matplotlib.pyplot as plt\n",
    "import seaborn as sns\n",
    "\n",
    "path = r\"D:\\DS_Final_Project\\Notebook\\data\\RAW_CSV\"\n",
    "\n",
    "customer = pd.read_csv(f\"{path}\\\\customer.csv\")\n",
    "cust_order = pd.read_csv(f\"{path}\\\\cust_order.csv\")\n",
    "customer_address = pd.read_csv(f\"{path}\\\\customer_address.csv\")\n",
    "address = pd.read_csv(f\"{path}\\\\address.csv\")\n",
    "address_status = pd.read_csv(f\"{path}\\\\address_status.csv\")\n",
    "order_history = pd.read_csv(f\"{path}\\\\order_history.csv\")\n",
    "order_line = pd.read_csv(f\"{path}\\\\order_line.csv\")\n",
    "order_status = pd.read_csv(f\"{path}\\\\order_status.csv\")\n",
    "shipping_method = pd.read_csv(f\"{path}\\\\shipping_method.csv\")\n"
   ]
  },
  {
   "cell_type": "code",
   "execution_count": 18,
   "metadata": {},
   "outputs": [
    {
     "name": "stdout",
     "output_type": "stream",
     "text": [
      "customer : ['customer_id', 'first_name', 'last_name', 'email']\n",
      "--------------------------------------------------\n",
      "cust_order : ['order_id', 'order_date', 'customer_id', 'shipping_method_id', 'dest_address_id']\n",
      "--------------------------------------------------\n",
      "customer_address : ['customer_id', 'address_id', 'status_id']\n",
      "--------------------------------------------------\n",
      "address : ['address_id', 'street_number', 'street_name', 'city', 'country_id']\n",
      "--------------------------------------------------\n",
      "address_status : ['status_id', 'address_status']\n",
      "--------------------------------------------------\n",
      "order_history : ['history_id', 'order_id', 'status_id', 'status_date']\n",
      "--------------------------------------------------\n",
      "order_line : ['line_id', 'order_id', 'book_id', 'price']\n",
      "--------------------------------------------------\n",
      "order_status : ['status_id', 'status_value']\n",
      "--------------------------------------------------\n",
      "shipping_method : ['method_id', 'method_name', 'cost']\n",
      "--------------------------------------------------\n"
     ]
    }
   ],
   "source": [
    "tables = [\n",
    "    (\"customer\", customer),\n",
    "    (\"cust_order\", cust_order),\n",
    "    (\"customer_address\", customer_address),\n",
    "    (\"address\", address),\n",
    "    (\"address_status\", address_status),\n",
    "    (\"order_history\", order_history),\n",
    "    (\"order_line\", order_line),\n",
    "    (\"order_status\", order_status),\n",
    "    (\"shipping_method\", shipping_method)]\n",
    "\n",
    "for name,df in tables:\n",
    "    print(f\"{name} : {list(df.columns)}\")\n",
    "    print(\"-\"*50)\n"
   ]
  },
  {
   "cell_type": "code",
   "execution_count": null,
   "metadata": {},
   "outputs": [],
   "source": [
    "#customer & cust_order & customer_address == customer id\n",
    "#cust_order & order_history & order line == order_id\n",
    "#cust_order & customer_address & address == address_id\n",
    "#customer_address & address_status == status_id\n",
    "#order_history & order_status == status id  (Both are different)"
   ]
  },
  {
   "cell_type": "code",
   "execution_count": 22,
   "metadata": {},
   "outputs": [
    {
     "data": {
      "text/html": [
       "<div>\n",
       "<style scoped>\n",
       "    .dataframe tbody tr th:only-of-type {\n",
       "        vertical-align: middle;\n",
       "    }\n",
       "\n",
       "    .dataframe tbody tr th {\n",
       "        vertical-align: top;\n",
       "    }\n",
       "\n",
       "    .dataframe thead th {\n",
       "        text-align: right;\n",
       "    }\n",
       "</style>\n",
       "<table border=\"1\" class=\"dataframe\">\n",
       "  <thead>\n",
       "    <tr style=\"text-align: right;\">\n",
       "      <th></th>\n",
       "      <th>customer_id</th>\n",
       "      <th>first_name</th>\n",
       "      <th>last_name</th>\n",
       "      <th>email</th>\n",
       "    </tr>\n",
       "  </thead>\n",
       "  <tbody>\n",
       "    <tr>\n",
       "      <th>1394</th>\n",
       "      <td>1395</td>\n",
       "      <td>Belvia</td>\n",
       "      <td>Ellwell</td>\n",
       "      <td>bellwellay@ftc.gov</td>\n",
       "    </tr>\n",
       "    <tr>\n",
       "      <th>232</th>\n",
       "      <td>233</td>\n",
       "      <td>Blake</td>\n",
       "      <td>Carson</td>\n",
       "      <td>bcarson6g@microsoft.com</td>\n",
       "    </tr>\n",
       "    <tr>\n",
       "      <th>1565</th>\n",
       "      <td>1566</td>\n",
       "      <td>Raff</td>\n",
       "      <td>Bowkett</td>\n",
       "      <td>rbowkettfp@yelp.com</td>\n",
       "    </tr>\n",
       "    <tr>\n",
       "      <th>131</th>\n",
       "      <td>132</td>\n",
       "      <td>Artie</td>\n",
       "      <td>Coltan</td>\n",
       "      <td>acoltan3n@usatoday.com</td>\n",
       "    </tr>\n",
       "    <tr>\n",
       "      <th>1221</th>\n",
       "      <td>1222</td>\n",
       "      <td>Charlotta</td>\n",
       "      <td>Pina</td>\n",
       "      <td>cpina65@yellowpages.com</td>\n",
       "    </tr>\n",
       "    <tr>\n",
       "      <th>962</th>\n",
       "      <td>963</td>\n",
       "      <td>Pearla</td>\n",
       "      <td>Caze</td>\n",
       "      <td>pcazeqq@stanford.edu</td>\n",
       "    </tr>\n",
       "    <tr>\n",
       "      <th>197</th>\n",
       "      <td>198</td>\n",
       "      <td>Lynette</td>\n",
       "      <td>Davidofski</td>\n",
       "      <td>ldavidofski5h@nbcnews.com</td>\n",
       "    </tr>\n",
       "    <tr>\n",
       "      <th>798</th>\n",
       "      <td>799</td>\n",
       "      <td>Meara</td>\n",
       "      <td>Lindroos</td>\n",
       "      <td>mlindroosm6@mashable.com</td>\n",
       "    </tr>\n",
       "    <tr>\n",
       "      <th>458</th>\n",
       "      <td>459</td>\n",
       "      <td>Lebbie</td>\n",
       "      <td>Eskrigg</td>\n",
       "      <td>leskriggcq@cloudflare.com</td>\n",
       "    </tr>\n",
       "    <tr>\n",
       "      <th>1383</th>\n",
       "      <td>1384</td>\n",
       "      <td>Louisette</td>\n",
       "      <td>Fraczak</td>\n",
       "      <td>lfraczakan@myspace.com</td>\n",
       "    </tr>\n",
       "  </tbody>\n",
       "</table>\n",
       "</div>"
      ],
      "text/plain": [
       "      customer_id first_name   last_name                      email\n",
       "1394         1395     Belvia     Ellwell         bellwellay@ftc.gov\n",
       "232           233      Blake      Carson    bcarson6g@microsoft.com\n",
       "1565         1566       Raff     Bowkett        rbowkettfp@yelp.com\n",
       "131           132      Artie      Coltan     acoltan3n@usatoday.com\n",
       "1221         1222  Charlotta        Pina    cpina65@yellowpages.com\n",
       "962           963     Pearla        Caze       pcazeqq@stanford.edu\n",
       "197           198    Lynette  Davidofski  ldavidofski5h@nbcnews.com\n",
       "798           799      Meara    Lindroos   mlindroosm6@mashable.com\n",
       "458           459     Lebbie     Eskrigg  leskriggcq@cloudflare.com\n",
       "1383         1384  Louisette     Fraczak     lfraczakan@myspace.com"
      ]
     },
     "execution_count": 22,
     "metadata": {},
     "output_type": "execute_result"
    }
   ],
   "source": [
    "customer.sample(10)"
   ]
  },
  {
   "cell_type": "code",
   "execution_count": 23,
   "metadata": {},
   "outputs": [
    {
     "data": {
      "text/plain": [
       "customer_id    0\n",
       "first_name     0\n",
       "last_name      0\n",
       "email          0\n",
       "dtype: int64"
      ]
     },
     "execution_count": 23,
     "metadata": {},
     "output_type": "execute_result"
    }
   ],
   "source": [
    "customer.isnull().sum()"
   ]
  },
  {
   "cell_type": "code",
   "execution_count": 25,
   "metadata": {},
   "outputs": [
    {
     "data": {
      "text/plain": [
       "np.int64(0)"
      ]
     },
     "execution_count": 25,
     "metadata": {},
     "output_type": "execute_result"
    }
   ],
   "source": [
    "customer.duplicated().sum()"
   ]
  },
  {
   "cell_type": "code",
   "execution_count": 30,
   "metadata": {},
   "outputs": [
    {
     "data": {
      "text/plain": [
       "(0, 4)"
      ]
     },
     "execution_count": 30,
     "metadata": {},
     "output_type": "execute_result"
    }
   ],
   "source": [
    "customer[customer.duplicated(subset='customer_id')].shape\n"
   ]
  },
  {
   "cell_type": "code",
   "execution_count": null,
   "metadata": {},
   "outputs": [],
   "source": []
  }
 ],
 "metadata": {
  "kernelspec": {
   "display_name": "myenv",
   "language": "python",
   "name": "python3"
  },
  "language_info": {
   "codemirror_mode": {
    "name": "ipython",
    "version": 3
   },
   "file_extension": ".py",
   "mimetype": "text/x-python",
   "name": "python",
   "nbconvert_exporter": "python",
   "pygments_lexer": "ipython3",
   "version": "3.12.8"
  }
 },
 "nbformat": 4,
 "nbformat_minor": 2
}
