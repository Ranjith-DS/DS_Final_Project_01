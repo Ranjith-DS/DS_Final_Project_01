{
 "cells": [
  {
   "cell_type": "code",
   "execution_count": 127,
   "metadata": {},
   "outputs": [],
   "source": [
    "import pandas as pd\n",
    "import numpy as np\n",
    "import matplotlib.pyplot as plt\n",
    "import seaborn as sns\n",
    "\n",
    "path = r\"D:\\DS_Final_Project\\Notebook\\data\\RAW_CSV\"\n",
    "\n",
    "customer = pd.read_csv(f\"{path}\\\\customer.csv\")\n",
    "cust_order = pd.read_csv(f\"{path}\\\\cust_order.csv\")\n",
    "customer_address_id = pd.read_csv(f\"{path}\\\\customer_address.csv\")\n",
    "customer_address_details = pd.read_csv(f\"{path}\\\\address.csv\")\n",
    "address_status = pd.read_csv(f\"{path}\\\\address_status.csv\")\n",
    "order_history = pd.read_csv(f\"{path}\\\\order_history.csv\")\n",
    "order_line = pd.read_csv(f\"{path}\\\\order_line.csv\")\n",
    "order_status = pd.read_csv(f\"{path}\\\\order_status.csv\")\n",
    "shipping_method = pd.read_csv(f\"{path}\\\\shipping_method.csv\")\n",
    "book = pd.read_csv(f\"{path}\\\\book.csv\")\n",
    "book_author_id = pd.read_csv(f\"{path}\\\\book_author.csv\")\n",
    "book_author_name = pd.read_csv(f\"{path}\\\\author.csv\")\n",
    "book_language = pd.read_csv(f\"{path}\\\\book_language.csv\")\n",
    "publisher = pd.read_csv(f\"{path}\\\\publisher.csv\")\n",
    "\n"
   ]
  },
  {
   "cell_type": "code",
   "execution_count": 52,
   "metadata": {},
   "outputs": [
    {
     "name": "stdout",
     "output_type": "stream",
     "text": [
      "customer : ['customer_id', 'first_name', 'last_name', 'email']\n",
      "--------------------------------------------------\n",
      "cust_order : ['order_id', 'order_date', 'customer_id', 'shipping_method_id', 'dest_address_id']\n",
      "--------------------------------------------------\n",
      "customer_address_id : ['customer_id', 'address_id', 'status_id']\n",
      "--------------------------------------------------\n",
      "customer_address_details : ['address_id', 'street_number', 'street_name', 'city', 'country_id']\n",
      "--------------------------------------------------\n",
      "address_status : ['status_id', 'address_status']\n",
      "--------------------------------------------------\n",
      "order_history : ['history_id', 'order_id', 'status_id', 'status_date']\n",
      "--------------------------------------------------\n",
      "order_line : ['line_id', 'order_id', 'book_id', 'price']\n",
      "--------------------------------------------------\n",
      "order_status : ['status_id', 'status_value']\n",
      "--------------------------------------------------\n",
      "shipping_method : ['method_id', 'method_name', 'cost']\n",
      "--------------------------------------------------\n",
      "book : ['book_id', 'title', 'isbn13', 'language_id', 'num_pages', 'publication_date', 'publisher_id']\n",
      "--------------------------------------------------\n",
      "book_author_id : ['book_id', 'author_id']\n",
      "--------------------------------------------------\n",
      "book_author_name : ['author_id', 'author_name']\n",
      "--------------------------------------------------\n",
      "book_language : ['language_id', 'language_code', 'language_name']\n",
      "--------------------------------------------------\n",
      "publisher : ['publisher_id', 'publisher_name']\n",
      "--------------------------------------------------\n"
     ]
    }
   ],
   "source": [
    "tables = [\n",
    "    (\"customer\", customer),\n",
    "    (\"cust_order\", cust_order),\n",
    "    (\"customer_address_id\",customer_address_id),\n",
    "    (\"customer_address_details\",customer_address_details),\n",
    "    (\"address_status\", address_status),\n",
    "    (\"order_history\", order_history),\n",
    "    (\"order_line\", order_line),\n",
    "    (\"order_status\", order_status),\n",
    "    (\"shipping_method\", shipping_method),\n",
    "    (\"book\",book),\n",
    "    (\"book_author_id\",book_author_id),\n",
    "    (\"book_author_name\",book_author_name),\n",
    "    (\"book_language\",book_language),\n",
    "    (\"publisher\",publisher)]\n",
    "\n",
    "for name,df in tables:\n",
    "    print(f\"{name} : {list(df.columns)}\")\n",
    "    print(\"-\"*50)\n"
   ]
  },
  {
   "cell_type": "code",
   "execution_count": 53,
   "metadata": {},
   "outputs": [
    {
     "name": "stdout",
     "output_type": "stream",
     "text": [
      "<class 'pandas.core.frame.DataFrame'>\n",
      "RangeIndex: 2000 entries, 0 to 1999\n",
      "Data columns (total 4 columns):\n",
      " #   Column       Non-Null Count  Dtype \n",
      "---  ------       --------------  ----- \n",
      " 0   customer_id  2000 non-null   int64 \n",
      " 1   first_name   2000 non-null   object\n",
      " 2   last_name    2000 non-null   object\n",
      " 3   email        2000 non-null   object\n",
      "dtypes: int64(1), object(3)\n",
      "memory usage: 62.6+ KB\n"
     ]
    }
   ],
   "source": [
    "# checking dtypes \n",
    "customer.info()"
   ]
  },
  {
   "cell_type": "code",
   "execution_count": 4,
   "metadata": {},
   "outputs": [
    {
     "data": {
      "text/plain": [
       "customer_id    0\n",
       "first_name     0\n",
       "last_name      0\n",
       "email          0\n",
       "dtype: int64"
      ]
     },
     "execution_count": 4,
     "metadata": {},
     "output_type": "execute_result"
    }
   ],
   "source": [
    "customer.isna().sum()"
   ]
  },
  {
   "cell_type": "code",
   "execution_count": 128,
   "metadata": {},
   "outputs": [
    {
     "data": {
      "text/html": [
       "<div>\n",
       "<style scoped>\n",
       "    .dataframe tbody tr th:only-of-type {\n",
       "        vertical-align: middle;\n",
       "    }\n",
       "\n",
       "    .dataframe tbody tr th {\n",
       "        vertical-align: top;\n",
       "    }\n",
       "\n",
       "    .dataframe thead th {\n",
       "        text-align: right;\n",
       "    }\n",
       "</style>\n",
       "<table border=\"1\" class=\"dataframe\">\n",
       "  <thead>\n",
       "    <tr style=\"text-align: right;\">\n",
       "      <th></th>\n",
       "      <th>customer_id</th>\n",
       "      <th>first_name</th>\n",
       "      <th>last_name</th>\n",
       "      <th>email</th>\n",
       "    </tr>\n",
       "  </thead>\n",
       "  <tbody>\n",
       "  </tbody>\n",
       "</table>\n",
       "</div>"
      ],
      "text/plain": [
       "Empty DataFrame\n",
       "Columns: [customer_id, first_name, last_name, email]\n",
       "Index: []"
      ]
     },
     "execution_count": 128,
     "metadata": {},
     "output_type": "execute_result"
    }
   ],
   "source": [
    "customer[customer.isnull().all(axis=1)]"
   ]
  },
  {
   "cell_type": "code",
   "execution_count": 129,
   "metadata": {},
   "outputs": [
    {
     "name": "stdout",
     "output_type": "stream",
     "text": [
      "Table: customer\n",
      "<class 'pandas.core.frame.DataFrame'>\n",
      "RangeIndex: 2000 entries, 0 to 1999\n",
      "Data columns (total 4 columns):\n",
      " #   Column       Non-Null Count  Dtype \n",
      "---  ------       --------------  ----- \n",
      " 0   customer_id  2000 non-null   int64 \n",
      " 1   first_name   2000 non-null   object\n",
      " 2   last_name    2000 non-null   object\n",
      " 3   email        2000 non-null   object\n",
      "dtypes: int64(1), object(3)\n",
      "memory usage: 62.6+ KB\n",
      "None\n",
      "   customer_id first_name last_name                   email\n",
      "0            1     Ursola     Purdy      upurdy0@cdbaby.com\n",
      "1            2   Ruthanne    Vatini       rvatini1@fema.gov\n",
      "2            3     Reidar   Turbitt  rturbitt2@geocities.jp\n",
      "3            4       Rich     Kirsz      rkirsz3@jalbum.net\n",
      "4            5    Carline     Kupis        ckupis4@tamu.edu \n",
      "\n",
      "----------------------------------------------------------------------------------------------------\n",
      "Table: cust_order\n",
      "<class 'pandas.core.frame.DataFrame'>\n",
      "RangeIndex: 7550 entries, 0 to 7549\n",
      "Data columns (total 5 columns):\n",
      " #   Column              Non-Null Count  Dtype \n",
      "---  ------              --------------  ----- \n",
      " 0   order_id            7550 non-null   int64 \n",
      " 1   order_date          7550 non-null   object\n",
      " 2   customer_id         7550 non-null   int64 \n",
      " 3   shipping_method_id  7550 non-null   int64 \n",
      " 4   dest_address_id     7550 non-null   int64 \n",
      "dtypes: int64(4), object(1)\n",
      "memory usage: 295.1+ KB\n",
      "None\n",
      "   order_id           order_date  customer_id  shipping_method_id  \\\n",
      "0         1  2023-08-22 16:12:12          413                   2   \n",
      "1         2  2023-07-25 03:52:27         1338                   1   \n",
      "2         3  2022-05-26 14:15:06         1464                   3   \n",
      "3         4  2022-01-01 10:23:19          269                   2   \n",
      "4         5  2024-11-29 11:35:26         1463                   4   \n",
      "\n",
      "   dest_address_id  \n",
      "0                1  \n",
      "1                1  \n",
      "2                2  \n",
      "3                3  \n",
      "4                3   \n",
      "\n",
      "----------------------------------------------------------------------------------------------------\n",
      "Table: customer_address_id\n",
      "<class 'pandas.core.frame.DataFrame'>\n",
      "RangeIndex: 3350 entries, 0 to 3349\n",
      "Data columns (total 3 columns):\n",
      " #   Column       Non-Null Count  Dtype\n",
      "---  ------       --------------  -----\n",
      " 0   customer_id  3350 non-null   int64\n",
      " 1   address_id   3350 non-null   int64\n",
      " 2   status_id    3350 non-null   int64\n",
      "dtypes: int64(3)\n",
      "memory usage: 78.6 KB\n",
      "None\n",
      "   customer_id  address_id  status_id\n",
      "0            1         359          1\n",
      "1            1         962          1\n",
      "2            2          77          1\n",
      "3            2         708          1\n",
      "4            3          39          1 \n",
      "\n",
      "----------------------------------------------------------------------------------------------------\n",
      "Table: customer_address_details\n",
      "<class 'pandas.core.frame.DataFrame'>\n",
      "RangeIndex: 1000 entries, 0 to 999\n",
      "Data columns (total 5 columns):\n",
      " #   Column         Non-Null Count  Dtype \n",
      "---  ------         --------------  ----- \n",
      " 0   address_id     1000 non-null   int64 \n",
      " 1   street_number  1000 non-null   int64 \n",
      " 2   street_name    1000 non-null   object\n",
      " 3   city           1000 non-null   object\n",
      " 4   country_id     1000 non-null   int64 \n",
      "dtypes: int64(3), object(2)\n",
      "memory usage: 39.2+ KB\n",
      "None\n",
      "   address_id  street_number          street_name          city  country_id\n",
      "0           1             57  Glacier Hill Avenue  Torbat-e Jām          95\n",
      "1           2             86      Dottie Junction      Beaumont          37\n",
      "2           3            292        Ramsey Avenue       Cayambe          60\n",
      "3           4           5618   Thackeray Junction        Caldas          47\n",
      "4           5              4             2nd Park      Ngunguru         153 \n",
      "\n",
      "----------------------------------------------------------------------------------------------------\n",
      "Table: address_status\n",
      "<class 'pandas.core.frame.DataFrame'>\n",
      "RangeIndex: 2 entries, 0 to 1\n",
      "Data columns (total 2 columns):\n",
      " #   Column          Non-Null Count  Dtype \n",
      "---  ------          --------------  ----- \n",
      " 0   status_id       2 non-null      int64 \n",
      " 1   address_status  2 non-null      object\n",
      "dtypes: int64(1), object(1)\n",
      "memory usage: 164.0+ bytes\n",
      "None\n",
      "   status_id address_status\n",
      "0          1         Active\n",
      "1          2       Inactive \n",
      "\n",
      "----------------------------------------------------------------------------------------------------\n",
      "Table: order_history\n",
      "<class 'pandas.core.frame.DataFrame'>\n",
      "RangeIndex: 22349 entries, 0 to 22348\n",
      "Data columns (total 4 columns):\n",
      " #   Column       Non-Null Count  Dtype \n",
      "---  ------       --------------  ----- \n",
      " 0   history_id   22349 non-null  int64 \n",
      " 1   order_id     22349 non-null  int64 \n",
      " 2   status_id    22349 non-null  int64 \n",
      " 3   status_date  22349 non-null  object\n",
      "dtypes: int64(3), object(1)\n",
      "memory usage: 698.5+ KB\n",
      "None\n",
      "   history_id  order_id  status_id          status_date\n",
      "0           1         1          1  2023-08-22 22:29:27\n",
      "1           2         2          1  2023-07-25 10:19:17\n",
      "2           3         3          1  2022-05-26 15:37:33\n",
      "3           4         4          1  2022-01-01 21:55:05\n",
      "4           5         5          1  2024-11-29 17:06:53 \n",
      "\n",
      "----------------------------------------------------------------------------------------------------\n",
      "Table: order_line\n",
      "<class 'pandas.core.frame.DataFrame'>\n",
      "RangeIndex: 15400 entries, 0 to 15399\n",
      "Data columns (total 4 columns):\n",
      " #   Column    Non-Null Count  Dtype  \n",
      "---  ------    --------------  -----  \n",
      " 0   line_id   15400 non-null  int64  \n",
      " 1   order_id  15400 non-null  int64  \n",
      " 2   book_id   15400 non-null  int64  \n",
      " 3   price     15400 non-null  float64\n",
      "dtypes: float64(1), int64(3)\n",
      "memory usage: 481.4 KB\n",
      "None\n",
      "   line_id  order_id  book_id  price\n",
      "0        1      1213     6476  13.42\n",
      "1        2      5308     6784   0.70\n",
      "2        3       240     3857  12.55\n",
      "3        4      2333     1091  12.14\n",
      "4        5      4335     8258  17.79 \n",
      "\n",
      "----------------------------------------------------------------------------------------------------\n",
      "Table: order_status\n",
      "<class 'pandas.core.frame.DataFrame'>\n",
      "RangeIndex: 6 entries, 0 to 5\n",
      "Data columns (total 2 columns):\n",
      " #   Column        Non-Null Count  Dtype \n",
      "---  ------        --------------  ----- \n",
      " 0   status_id     6 non-null      int64 \n",
      " 1   status_value  6 non-null      object\n",
      "dtypes: int64(1), object(1)\n",
      "memory usage: 228.0+ bytes\n",
      "None\n",
      "   status_id          status_value\n",
      "0          1        Order Received\n",
      "1          2      Pending Delivery\n",
      "2          3  Delivery In Progress\n",
      "3          4             Delivered\n",
      "4          5             Cancelled \n",
      "\n",
      "----------------------------------------------------------------------------------------------------\n",
      "Table: shipping_method\n",
      "<class 'pandas.core.frame.DataFrame'>\n",
      "RangeIndex: 4 entries, 0 to 3\n",
      "Data columns (total 3 columns):\n",
      " #   Column       Non-Null Count  Dtype  \n",
      "---  ------       --------------  -----  \n",
      " 0   method_id    4 non-null      int64  \n",
      " 1   method_name  4 non-null      object \n",
      " 2   cost         4 non-null      float64\n",
      "dtypes: float64(1), int64(1), object(1)\n",
      "memory usage: 228.0+ bytes\n",
      "None\n",
      "   method_id    method_name  cost\n",
      "0          1       Standard   5.9\n",
      "1          2       Priority   8.9\n",
      "2          3        Express  11.9\n",
      "3          4  International  24.5 \n",
      "\n",
      "----------------------------------------------------------------------------------------------------\n",
      "Table: book\n",
      "<class 'pandas.core.frame.DataFrame'>\n",
      "RangeIndex: 11127 entries, 0 to 11126\n",
      "Data columns (total 7 columns):\n",
      " #   Column            Non-Null Count  Dtype \n",
      "---  ------            --------------  ----- \n",
      " 0   book_id           11127 non-null  int64 \n",
      " 1   title             11127 non-null  object\n",
      " 2   isbn13            11127 non-null  int64 \n",
      " 3   language_id       11127 non-null  int64 \n",
      " 4   num_pages         11127 non-null  int64 \n",
      " 5   publication_date  11127 non-null  object\n",
      " 6   publisher_id      11127 non-null  int64 \n",
      "dtypes: int64(5), object(2)\n",
      "memory usage: 608.6+ KB\n",
      "None\n",
      "   book_id                                              title       isbn13  \\\n",
      "0        1        The World's First Love: Mary  Mother of God   8987059752   \n",
      "1        2                                     The Illuminati  20049130001   \n",
      "2        3                                 The Servant Leader  23755004321   \n",
      "3        4  What Life Was Like in the Jewel in the Crown: ...  34406054602   \n",
      "4        5  Cliffs Notes on Aristophanes' Lysistrata  The ...  49086007763   \n",
      "\n",
      "   language_id  num_pages publication_date  publisher_id  \n",
      "0            2        276       1996-09-01          1010  \n",
      "1            1        352       2004-10-04          1967  \n",
      "2            1        128       2003-03-11          1967  \n",
      "3            1        168       1999-09-01          1978  \n",
      "4            1         80       1983-12-29           416   \n",
      "\n",
      "----------------------------------------------------------------------------------------------------\n",
      "Table: book_author_id\n",
      "<class 'pandas.core.frame.DataFrame'>\n",
      "RangeIndex: 17642 entries, 0 to 17641\n",
      "Data columns (total 2 columns):\n",
      " #   Column     Non-Null Count  Dtype\n",
      "---  ------     --------------  -----\n",
      " 0   book_id    17642 non-null  int64\n",
      " 1   author_id  17642 non-null  int64\n",
      "dtypes: int64(2)\n",
      "memory usage: 275.8 KB\n",
      "None\n",
      "   book_id  author_id\n",
      "0    10539          1\n",
      "1     8109          2\n",
      "2     2792          3\n",
      "3     6228          4\n",
      "4     1058          5 \n",
      "\n",
      "----------------------------------------------------------------------------------------------------\n",
      "Table: book_author_name\n",
      "<class 'pandas.core.frame.DataFrame'>\n",
      "RangeIndex: 9235 entries, 0 to 9234\n",
      "Data columns (total 2 columns):\n",
      " #   Column       Non-Null Count  Dtype \n",
      "---  ------       --------------  ----- \n",
      " 0   author_id    9235 non-null   int64 \n",
      " 1   author_name  9235 non-null   object\n",
      "dtypes: int64(1), object(1)\n",
      "memory usage: 144.4+ KB\n",
      "None\n",
      "   author_id           author_name\n",
      "0          1  A. Bartlett Giamatti\n",
      "1          2   A. Elizabeth Delany\n",
      "2          3            A. Merritt\n",
      "3          4      A. Roger Merrill\n",
      "4          5        A. Walton Litz \n",
      "\n",
      "----------------------------------------------------------------------------------------------------\n",
      "Table: book_language\n",
      "<class 'pandas.core.frame.DataFrame'>\n",
      "RangeIndex: 27 entries, 0 to 26\n",
      "Data columns (total 3 columns):\n",
      " #   Column         Non-Null Count  Dtype \n",
      "---  ------         --------------  ----- \n",
      " 0   language_id    27 non-null     int64 \n",
      " 1   language_code  27 non-null     object\n",
      " 2   language_name  27 non-null     object\n",
      "dtypes: int64(1), object(2)\n",
      "memory usage: 780.0+ bytes\n",
      "None\n",
      "   language_id language_code          language_name\n",
      "0            1           eng                English\n",
      "1            2         en-US  United States English\n",
      "2            3           fre                 French\n",
      "3            4           spa                Spanish\n",
      "4            5         en-GB        British English \n",
      "\n",
      "----------------------------------------------------------------------------------------------------\n",
      "Table: publisher\n",
      "<class 'pandas.core.frame.DataFrame'>\n",
      "RangeIndex: 2264 entries, 0 to 2263\n",
      "Data columns (total 2 columns):\n",
      " #   Column          Non-Null Count  Dtype \n",
      "---  ------          --------------  ----- \n",
      " 0   publisher_id    2264 non-null   int64 \n",
      " 1   publisher_name  2264 non-null   object\n",
      "dtypes: int64(1), object(1)\n",
      "memory usage: 35.5+ KB\n",
      "None\n",
      "   publisher_id                 publisher_name\n",
      "0             1                          10/18\n",
      "1             2               1st Book Library\n",
      "2             3              1st World Library\n",
      "3             4  A & C Black (Childrens books)\n",
      "4             5   A Harvest Book/Harcourt Inc. \n",
      "\n",
      "----------------------------------------------------------------------------------------------------\n"
     ]
    }
   ],
   "source": [
    "# Inspect each table\n",
    "for table_name, df in zip([\"customer\", \"cust_order\", \"customer_address_id\", \"customer_address_details\", \n",
    "                           \"address_status\", \"order_history\", \"order_line\", \"order_status\", \n",
    "                           \"shipping_method\", \"book\", \"book_author_id\", \"book_author_name\", \n",
    "                           \"book_language\", \"publisher\"], \n",
    "                          [customer, cust_order, customer_address_id, customer_address_details, \n",
    "                           address_status, order_history, order_line, order_status, \n",
    "                           shipping_method, book, book_author_id, book_author_name, \n",
    "                           book_language, publisher]):\n",
    "    print(f\"Table: {table_name}\")\n",
    "    print(df.info())\n",
    "    print(df.head(), \"\\n\")\n",
    "    print(\"-\"*100)\n"
   ]
  },
  {
   "cell_type": "markdown",
   "metadata": {},
   "source": [
    "**Observation**:\n",
    "\n",
    "1. In cust_order order date seems to be object we need to convert that into datetime formate.\n",
    "2. In customer_address_details street name and city seems to be object type we need to check for that.\n",
    "3. In address_status - address status column seems to be categorical column type.\n",
    "4. In order_history - status date seems to object. convert to datetime formate.\n",
    "5. In order status - status value column seems to categorical column type.\n",
    "6. In shipping_method - method_name column seems to be categorical.\n",
    "7. In boob - title and publication_date column seems to object type we need formate it.\n",
    "8. In book_author_name - author_name seems to be object type we need to verify whether it is cat column or not.\n",
    "9. book_language - language_code & language_name seems to be object. Check whether it is a cat column or not.\n",
    "10. publisher - publisher_name seems to be object type. check for the column type."
   ]
  },
  {
   "cell_type": "code",
   "execution_count": 130,
   "metadata": {},
   "outputs": [
    {
     "name": "stdout",
     "output_type": "stream",
     "text": [
      "Table: customer\n",
      "customer_id    0\n",
      "first_name     0\n",
      "last_name      0\n",
      "email          0\n",
      "dtype: int64 \n",
      "\n",
      "--------------------------------------------------\n",
      "Table: cust_order\n",
      "order_id              0\n",
      "order_date            0\n",
      "customer_id           0\n",
      "shipping_method_id    0\n",
      "dest_address_id       0\n",
      "dtype: int64 \n",
      "\n",
      "--------------------------------------------------\n",
      "Table: customer_address_id\n",
      "customer_id    0\n",
      "address_id     0\n",
      "status_id      0\n",
      "dtype: int64 \n",
      "\n",
      "--------------------------------------------------\n",
      "Table: customer_address_details\n",
      "address_id       0\n",
      "street_number    0\n",
      "street_name      0\n",
      "city             0\n",
      "country_id       0\n",
      "dtype: int64 \n",
      "\n",
      "--------------------------------------------------\n",
      "Table: address_status\n",
      "status_id         0\n",
      "address_status    0\n",
      "dtype: int64 \n",
      "\n",
      "--------------------------------------------------\n",
      "Table: order_history\n",
      "history_id     0\n",
      "order_id       0\n",
      "status_id      0\n",
      "status_date    0\n",
      "dtype: int64 \n",
      "\n",
      "--------------------------------------------------\n",
      "Table: order_line\n",
      "line_id     0\n",
      "order_id    0\n",
      "book_id     0\n",
      "price       0\n",
      "dtype: int64 \n",
      "\n",
      "--------------------------------------------------\n",
      "Table: order_status\n",
      "status_id       0\n",
      "status_value    0\n",
      "dtype: int64 \n",
      "\n",
      "--------------------------------------------------\n",
      "Table: shipping_method\n",
      "method_id      0\n",
      "method_name    0\n",
      "cost           0\n",
      "dtype: int64 \n",
      "\n",
      "--------------------------------------------------\n",
      "Table: book\n",
      "book_id             0\n",
      "title               0\n",
      "isbn13              0\n",
      "language_id         0\n",
      "num_pages           0\n",
      "publication_date    0\n",
      "publisher_id        0\n",
      "dtype: int64 \n",
      "\n",
      "--------------------------------------------------\n",
      "Table: book_author_id\n",
      "book_id      0\n",
      "author_id    0\n",
      "dtype: int64 \n",
      "\n",
      "--------------------------------------------------\n",
      "Table: book_author_name\n",
      "author_id      0\n",
      "author_name    0\n",
      "dtype: int64 \n",
      "\n",
      "--------------------------------------------------\n",
      "Table: book_language\n",
      "language_id      0\n",
      "language_code    0\n",
      "language_name    0\n",
      "dtype: int64 \n",
      "\n",
      "--------------------------------------------------\n",
      "Table: publisher\n",
      "publisher_id      0\n",
      "publisher_name    0\n",
      "dtype: int64 \n",
      "\n",
      "--------------------------------------------------\n"
     ]
    }
   ],
   "source": [
    "# Check for missing values in all datasets\n",
    "\n",
    "for table_name, df in zip([\"customer\", \"cust_order\", \"customer_address_id\", \"customer_address_details\", \n",
    "                           \"address_status\", \"order_history\", \"order_line\", \"order_status\", \n",
    "                           \"shipping_method\", \"book\", \"book_author_id\", \"book_author_name\", \n",
    "                           \"book_language\", \"publisher\"], \n",
    "                          [customer, cust_order, customer_address_id, customer_address_details, \n",
    "                           address_status, order_history, order_line, order_status, \n",
    "                           shipping_method, book, book_author_id, book_author_name, \n",
    "                           book_language, publisher]):\n",
    "    print(f\"Table: {table_name}\")\n",
    "    print(df.isnull().sum(), \"\\n\")\n",
    "    print(\"-\"*50)\n"
   ]
  },
  {
   "cell_type": "markdown",
   "metadata": {},
   "source": [
    "**Observation:**\n",
    "1. No missing values seen on any tables."
   ]
  },
  {
   "cell_type": "code",
   "execution_count": 131,
   "metadata": {},
   "outputs": [
    {
     "name": "stdout",
     "output_type": "stream",
     "text": [
      "Table: customer | Duplicates: 0\n",
      "Table: cust_order | Duplicates: 0\n",
      "Table: customer_address_id | Duplicates: 0\n",
      "Table: customer_address_details | Duplicates: 0\n",
      "Table: address_status | Duplicates: 0\n",
      "Table: order_history | Duplicates: 0\n",
      "Table: order_line | Duplicates: 0\n",
      "Table: order_status | Duplicates: 0\n",
      "Table: shipping_method | Duplicates: 0\n",
      "Table: book | Duplicates: 0\n",
      "Table: book_author_id | Duplicates: 0\n",
      "Table: book_author_name | Duplicates: 0\n",
      "Table: book_language | Duplicates: 0\n",
      "Table: publisher | Duplicates: 0\n"
     ]
    }
   ],
   "source": [
    "# Drop duplicates in all datasets\n",
    "for table_name, df in zip([\"customer\", \"cust_order\", \"customer_address_id\", \"customer_address_details\", \n",
    "                           \"address_status\", \"order_history\", \"order_line\", \"order_status\", \n",
    "                           \"shipping_method\", \"book\", \"book_author_id\", \"book_author_name\", \n",
    "                           \"book_language\", \"publisher\"], \n",
    "                          [customer, cust_order, customer_address_id, customer_address_details, \n",
    "                           address_status, order_history, order_line, order_status, \n",
    "                           shipping_method, book, book_author_id, book_author_name, \n",
    "                           book_language, publisher]):\n",
    "    duplicates = df.duplicated().sum()\n",
    "    print(f\"Table: {table_name} | Duplicates: {duplicates}\")\n",
    "    if duplicates > 0:\n",
    "       df.drop_duplicates(inplace=True)\n"
   ]
  },
  {
   "cell_type": "markdown",
   "metadata": {},
   "source": [
    "**Observation:\n",
    "**1. No duplicates has been seen on any tables."
   ]
  },
  {
   "cell_type": "code",
   "execution_count": 132,
   "metadata": {},
   "outputs": [],
   "source": [
    "# Check for the column names are same before merging\n",
    "\n",
    "def standardize_column_name(df):\n",
    "    df.columns = df.columns.str.strip().str.lower().str.replace(\" \",\"_\")\n",
    "    return df\n",
    "    \n",
    "# Apply to all datasets\n",
    "customer = standardize_column_name(customer)\n",
    "cust_order = standardize_column_name(cust_order)\n",
    "customer_address_id = standardize_column_name(customer_address_id)\n",
    "customer_address_details = standardize_column_name(customer_address_details)\n",
    "address_status = standardize_column_name(address_status)\n",
    "order_history = standardize_column_name(order_history)\n",
    "order_line = standardize_column_name(order_line)\n",
    "order_status = standardize_column_name(order_status)\n",
    "shipping_method = standardize_column_name(shipping_method)\n",
    "book = standardize_column_name(book)\n",
    "book_author_id = standardize_column_name(book_author_id)\n",
    "book_author_name = standardize_column_name(book_author_name)\n",
    "book_language = standardize_column_name(book_language)\n",
    "publisher = standardize_column_name(publisher)"
   ]
  },
  {
   "cell_type": "code",
   "execution_count": 133,
   "metadata": {},
   "outputs": [
    {
     "name": "stdout",
     "output_type": "stream",
     "text": [
      "Table: customer | Primary Key: customer_id | Is Unique: True\n",
      "Table: cust_order | Primary Key: order_id | Is Unique: True\n",
      "Table: customer_address_id | Primary Key: address_id | Is Unique: False\n",
      "Table: customer_address_details | Primary Key: address_id | Is Unique: True\n",
      "Table: address_status | Primary Key: status_id | Is Unique: True\n",
      "Table: order_history | Primary Key: history_id | Is Unique: True\n",
      "Table: order_line | Primary Key: line_id | Is Unique: True\n",
      "Table: order_status | Primary Key: status_id | Is Unique: True\n",
      "Table: shipping_method | Primary Key: method_id | Is Unique: True\n",
      "Table: book | Primary Key: book_id | Is Unique: True\n",
      "Table: book_author_id | Primary Key: author_id | Is Unique: False\n",
      "Table: book_author_name | Primary Key: author_id | Is Unique: True\n",
      "Table: book_language | Primary Key: language_id | Is Unique: True\n",
      "Table: publisher | Primary Key: publisher_id | Is Unique: True\n"
     ]
    }
   ],
   "source": [
    "# Dictionary to map table names to their DataFrames\n",
    "tables = {\n",
    "    \"customer\": customer,\n",
    "    \"cust_order\": cust_order,\n",
    "    \"customer_address_id\": customer_address_id,\n",
    "    \"customer_address_details\": customer_address_details,\n",
    "    \"address_status\": address_status,\n",
    "    \"order_history\": order_history,\n",
    "    \"order_line\": order_line,\n",
    "    \"order_status\": order_status,\n",
    "    \"shipping_method\": shipping_method,\n",
    "    \"book\": book,\n",
    "    \"book_author_id\": book_author_id,\n",
    "    \"book_author_name\": book_author_name,\n",
    "    \"book_language\": book_language,\n",
    "    \"publisher\": publisher,\n",
    "}\n",
    "\n",
    "# Dictionary to map table names to their primary keys\n",
    "primary_keys = {\n",
    "    \"customer\": \"customer_id\",\n",
    "    \"cust_order\": \"order_id\",\n",
    "    \"customer_address_id\": \"address_id\",\n",
    "    \"customer_address_details\": \"address_id\",\n",
    "    \"address_status\": \"status_id\",\n",
    "    \"order_history\": \"history_id\",\n",
    "    \"order_line\": \"line_id\",\n",
    "    \"order_status\": \"status_id\",\n",
    "    \"shipping_method\": \"method_id\",\n",
    "    \"book\": \"book_id\",\n",
    "    \"book_author_id\": \"author_id\",\n",
    "    \"book_author_name\": \"author_id\",\n",
    "    \"book_language\": \"language_id\",\n",
    "    \"publisher\": \"publisher_id\",\n",
    "}\n",
    "\n",
    "# Loop through tables and check uniqueness of primary keys\n",
    "for table_name, df in tables.items():\n",
    "    # Get the primary key for the current table\n",
    "    key = primary_keys.get(table_name)\n",
    "    if key:\n",
    "        # Check if the primary key column is unique\n",
    "        unique = df[key].is_unique\n",
    "        print(f\"Table: {table_name} | Primary Key: {key} | Is Unique: {unique}\")\n",
    "    else:\n",
    "        print(f\"Table: {table_name} has no primary key defined.\")\n"
   ]
  },
  {
   "cell_type": "code",
   "execution_count": 134,
   "metadata": {},
   "outputs": [
    {
     "name": "stdout",
     "output_type": "stream",
     "text": [
      "{'address_status': ['address_status'],\n",
      " 'book': ['title', 'publication_date'],\n",
      " 'book_author_id': [],\n",
      " 'book_author_name': ['author_name'],\n",
      " 'book_language': ['language_code', 'language_name'],\n",
      " 'cust_order': ['order_date'],\n",
      " 'customer': ['first_name', 'last_name', 'email'],\n",
      " 'customer_address_details': ['street_name', 'city'],\n",
      " 'customer_address_id': [],\n",
      " 'order_history': ['status_date'],\n",
      " 'order_line': [],\n",
      " 'order_status': ['status_value'],\n",
      " 'publisher': ['publisher_name'],\n",
      " 'shipping_method': ['method_name']}\n"
     ]
    }
   ],
   "source": [
    "# Checking the dtype \" o \" column in the tables:\n",
    "obj_column = {}\n",
    "\n",
    "for table_name, df in zip([\"customer\", \"cust_order\", \"customer_address_id\", \"customer_address_details\", \n",
    "                           \"address_status\", \"order_history\", \"order_line\", \"order_status\", \n",
    "                           \"shipping_method\", \"book\", \"book_author_id\", \"book_author_name\", \n",
    "                           \"book_language\", \"publisher\"], \n",
    "                          [customer, cust_order, customer_address_id, customer_address_details, \n",
    "                           address_status, order_history, order_line, order_status, \n",
    "                           shipping_method, book, book_author_id, book_author_name, \n",
    "                           book_language, publisher]):\n",
    "    \n",
    "    obj_column[table_name] = []\n",
    "    columns = list(df.columns)\n",
    "    \n",
    "    for col_name in columns:\n",
    "        if df[col_name].dtype == \"O\":\n",
    "            obj_column[table_name].append(col_name)\n",
    "import pprint\n",
    "pprint.pprint(obj_column)   \n"
   ]
  },
  {
   "cell_type": "code",
   "execution_count": 135,
   "metadata": {},
   "outputs": [
    {
     "data": {
      "text/plain": [
       "order_id                       int64\n",
       "order_date            datetime64[ns]\n",
       "customer_id                    int64\n",
       "shipping_method_id             int64\n",
       "dest_address_id                int64\n",
       "order_day                      int32\n",
       "order_month                    int32\n",
       "order_year                     int32\n",
       "order_month_name              object\n",
       "dtype: object"
      ]
     },
     "execution_count": 135,
     "metadata": {},
     "output_type": "execute_result"
    }
   ],
   "source": [
    "# 1st lets format the date column in cust_order tables.\n",
    "\n",
    "cust_order['order_date'] = pd.to_datetime(cust_order['order_date'])\n",
    "cust_order['order_day'] = cust_order.order_date.dt.day\n",
    "cust_order['order_month'] = cust_order.order_date.dt.month\n",
    "cust_order['order_year'] = cust_order.order_date.dt.year\n",
    "cust_order['order_month_name'] = cust_order.order_date.dt.month_name()\n",
    "\n",
    "cust_order.dtypes\n"
   ]
  },
  {
   "cell_type": "code",
   "execution_count": 136,
   "metadata": {},
   "outputs": [
    {
     "data": {
      "text/plain": [
       "history_id                    int64\n",
       "order_id                      int64\n",
       "status_id                     int64\n",
       "status_date          datetime64[ns]\n",
       "hist_status_day               int32\n",
       "hist_status_month             int32\n",
       "hist_status_year              int32\n",
       "dtype: object"
      ]
     },
     "execution_count": 136,
     "metadata": {},
     "output_type": "execute_result"
    }
   ],
   "source": [
    "# Formatting the order history tables date column\n",
    "\n",
    "order_history['status_date'] = pd.to_datetime(order_history['status_date'])\n",
    "order_history['hist_status_day'] = order_history['status_date'].dt.day\n",
    "order_history['hist_status_month'] = order_history['status_date'].dt.month\n",
    "order_history['hist_status_year'] = order_history['status_date'].dt.year\n",
    "\n",
    "order_history.dtypes"
   ]
  },
  {
   "cell_type": "code",
   "execution_count": 137,
   "metadata": {},
   "outputs": [
    {
     "data": {
      "text/plain": [
       "book_id                      int64\n",
       "title                       object\n",
       "isbn13                       int64\n",
       "language_id                  int64\n",
       "num_pages                    int64\n",
       "publication_date    datetime64[ns]\n",
       "publisher_id                 int64\n",
       "publish_day                  int32\n",
       "publish_month                int32\n",
       "publish_year                 int32\n",
       "dtype: object"
      ]
     },
     "execution_count": 137,
     "metadata": {},
     "output_type": "execute_result"
    }
   ],
   "source": [
    "# Formatting boo table publish date\n",
    "\n",
    "book['publication_date'] = pd.to_datetime(book['publication_date'])\n",
    "book['publish_day'] = book['publication_date'].dt.day\n",
    "book['publish_month'] = book['publication_date'].dt.month\n",
    "book['publish_year'] = book['publication_date'].dt.year\n",
    "book.sample(5).dtypes"
   ]
  },
  {
   "cell_type": "code",
   "execution_count": 138,
   "metadata": {},
   "outputs": [],
   "source": [
    "# Converting to price column to numberic\n",
    "\n",
    "order_line['price'] = pd.to_numeric(order_line['price'], errors='coerce')"
   ]
  },
  {
   "cell_type": "code",
   "execution_count": 139,
   "metadata": {},
   "outputs": [],
   "source": [
    "# Removing trailing space in object data type.\n",
    "\n",
    "# Checking the dtype \" o \" column in the tables:\n",
    "obj_column = {}\n",
    "\n",
    "for table_name, df in zip([\"customer\", \"cust_order\", \"customer_address_id\", \"customer_address_details\", \n",
    "                           \"address_status\", \"order_history\", \"order_line\", \"order_status\", \n",
    "                           \"shipping_method\", \"book\", \"book_author_id\", \"book_author_name\", \n",
    "                           \"book_language\", \"publisher\"], \n",
    "                          [customer, cust_order, customer_address_id, customer_address_details, \n",
    "                           address_status, order_history, order_line, order_status, \n",
    "                           shipping_method, book, book_author_id, book_author_name, \n",
    "                           book_language, publisher]):\n",
    "    \n",
    "    obj_column[table_name] = []\n",
    "    columns = list(df.columns)\n",
    "    \n",
    "    for col_name in columns:\n",
    "        if df[col_name].dtype == \"O\":\n",
    "            obj_column[table_name].append(col_name)\n",
    "import pprint\n",
    "#pprint.pprint(obj_column)\n",
    "\n",
    "# Function to strip the space and lower the letter cases.\n",
    "\n",
    "def remove_trailing_space(df):\n",
    "    return df.str.strip().str.lower()\n",
    "\n",
    "for table_name,col_name in obj_column.items():\n",
    "    df = eval(table_name)\n",
    "    for col in df:\n",
    "        df[col_name] = df[col_name].apply(remove_trailing_space)\n",
    "\n",
    "      \n"
   ]
  },
  {
   "cell_type": "code",
   "execution_count": 140,
   "metadata": {},
   "outputs": [
    {
     "name": "stdout",
     "output_type": "stream",
     "text": [
      "Customer size: (2000, 4)\n",
      "customer address id size: (3350, 3)\n",
      "customer details size: (1000, 5)\n",
      "address status size: (2, 2)\n"
     ]
    }
   ],
   "source": [
    "# Check sizes\n",
    "print(\"Customer size:\", customer.shape)\n",
    "print(\"customer address id size:\", customer_address_id.shape)\n",
    "print(\"customer details size:\", customer_address_details.shape)\n",
    "print(\"address status size:\", address_status.shape)\n",
    "\n"
   ]
  },
  {
   "cell_type": "code",
   "execution_count": 68,
   "metadata": {},
   "outputs": [
    {
     "name": "stdout",
     "output_type": "stream",
     "text": [
      "Index(['customer_id', 'first_name', 'last_name', 'email'], dtype='object')\n",
      "Index(['customer_id', 'address_id', 'status_id'], dtype='object')\n",
      "Index(['address_id', 'street_number', 'street_name', 'city', 'country_id'], dtype='object')\n",
      "Index(['status_id', 'address_status'], dtype='object')\n"
     ]
    }
   ],
   "source": [
    "print(customer.columns)\n",
    "print(customer_address_id.columns)\n",
    "print(customer_address_details.columns)\n",
    "print(address_status.columns)"
   ]
  },
  {
   "cell_type": "code",
   "execution_count": 141,
   "metadata": {},
   "outputs": [],
   "source": [
    "customer_address_id.rename(columns={\"status_id\" : 'address_status_id'},inplace=True)\n",
    "address_status.rename(columns={'status_id' : 'address_status_id'},inplace=True)"
   ]
  },
  {
   "cell_type": "code",
   "execution_count": 142,
   "metadata": {},
   "outputs": [
    {
     "data": {
      "text/html": [
       "<div>\n",
       "<style scoped>\n",
       "    .dataframe tbody tr th:only-of-type {\n",
       "        vertical-align: middle;\n",
       "    }\n",
       "\n",
       "    .dataframe tbody tr th {\n",
       "        vertical-align: top;\n",
       "    }\n",
       "\n",
       "    .dataframe thead th {\n",
       "        text-align: right;\n",
       "    }\n",
       "</style>\n",
       "<table border=\"1\" class=\"dataframe\">\n",
       "  <thead>\n",
       "    <tr style=\"text-align: right;\">\n",
       "      <th></th>\n",
       "      <th>customer_id</th>\n",
       "      <th>first_name</th>\n",
       "      <th>last_name</th>\n",
       "      <th>email</th>\n",
       "      <th>address_id</th>\n",
       "      <th>address_status_id</th>\n",
       "      <th>street_number</th>\n",
       "      <th>street_name</th>\n",
       "      <th>city</th>\n",
       "      <th>country_id</th>\n",
       "      <th>address_status</th>\n",
       "    </tr>\n",
       "  </thead>\n",
       "  <tbody>\n",
       "    <tr>\n",
       "      <th>0</th>\n",
       "      <td>1</td>\n",
       "      <td>ursola</td>\n",
       "      <td>purdy</td>\n",
       "      <td>upurdy0@cdbaby.com</td>\n",
       "      <td>359</td>\n",
       "      <td>1</td>\n",
       "      <td>9923</td>\n",
       "      <td>merrick center</td>\n",
       "      <td>kiuruvesi</td>\n",
       "      <td>69</td>\n",
       "      <td>active</td>\n",
       "    </tr>\n",
       "    <tr>\n",
       "      <th>1</th>\n",
       "      <td>1</td>\n",
       "      <td>ursola</td>\n",
       "      <td>purdy</td>\n",
       "      <td>upurdy0@cdbaby.com</td>\n",
       "      <td>962</td>\n",
       "      <td>1</td>\n",
       "      <td>6</td>\n",
       "      <td>school road</td>\n",
       "      <td>timrå</td>\n",
       "      <td>194</td>\n",
       "      <td>active</td>\n",
       "    </tr>\n",
       "    <tr>\n",
       "      <th>2</th>\n",
       "      <td>2</td>\n",
       "      <td>ruthanne</td>\n",
       "      <td>vatini</td>\n",
       "      <td>rvatini1@fema.gov</td>\n",
       "      <td>77</td>\n",
       "      <td>1</td>\n",
       "      <td>41492</td>\n",
       "      <td>bartillon circle</td>\n",
       "      <td>klau</td>\n",
       "      <td>92</td>\n",
       "      <td>active</td>\n",
       "    </tr>\n",
       "    <tr>\n",
       "      <th>3</th>\n",
       "      <td>2</td>\n",
       "      <td>ruthanne</td>\n",
       "      <td>vatini</td>\n",
       "      <td>rvatini1@fema.gov</td>\n",
       "      <td>708</td>\n",
       "      <td>1</td>\n",
       "      <td>7</td>\n",
       "      <td>thompson point</td>\n",
       "      <td>ylämaa</td>\n",
       "      <td>69</td>\n",
       "      <td>active</td>\n",
       "    </tr>\n",
       "    <tr>\n",
       "      <th>4</th>\n",
       "      <td>3</td>\n",
       "      <td>reidar</td>\n",
       "      <td>turbitt</td>\n",
       "      <td>rturbitt2@geocities.jp</td>\n",
       "      <td>39</td>\n",
       "      <td>1</td>\n",
       "      <td>7</td>\n",
       "      <td>bellgrove hill</td>\n",
       "      <td>sumberejo</td>\n",
       "      <td>92</td>\n",
       "      <td>active</td>\n",
       "    </tr>\n",
       "    <tr>\n",
       "      <th>...</th>\n",
       "      <td>...</td>\n",
       "      <td>...</td>\n",
       "      <td>...</td>\n",
       "      <td>...</td>\n",
       "      <td>...</td>\n",
       "      <td>...</td>\n",
       "      <td>...</td>\n",
       "      <td>...</td>\n",
       "      <td>...</td>\n",
       "      <td>...</td>\n",
       "      <td>...</td>\n",
       "    </tr>\n",
       "    <tr>\n",
       "      <th>3345</th>\n",
       "      <td>1998</td>\n",
       "      <td>georgeanna</td>\n",
       "      <td>garman</td>\n",
       "      <td>ggarmanrp@surveymonkey.com</td>\n",
       "      <td>454</td>\n",
       "      <td>1</td>\n",
       "      <td>725</td>\n",
       "      <td>debs court</td>\n",
       "      <td>radostowice</td>\n",
       "      <td>163</td>\n",
       "      <td>active</td>\n",
       "    </tr>\n",
       "    <tr>\n",
       "      <th>3346</th>\n",
       "      <td>1999</td>\n",
       "      <td>ardeen</td>\n",
       "      <td>caret</td>\n",
       "      <td>acaretrq@wsj.com</td>\n",
       "      <td>636</td>\n",
       "      <td>1</td>\n",
       "      <td>733</td>\n",
       "      <td>dovetail place</td>\n",
       "      <td>suchań</td>\n",
       "      <td>163</td>\n",
       "      <td>active</td>\n",
       "    </tr>\n",
       "    <tr>\n",
       "      <th>3347</th>\n",
       "      <td>2000</td>\n",
       "      <td>delora</td>\n",
       "      <td>bigglestone</td>\n",
       "      <td>dbigglestonerr@usatoday.com</td>\n",
       "      <td>99</td>\n",
       "      <td>1</td>\n",
       "      <td>53851</td>\n",
       "      <td>meadow valley drive</td>\n",
       "      <td>zvezdara</td>\n",
       "      <td>186</td>\n",
       "      <td>active</td>\n",
       "    </tr>\n",
       "    <tr>\n",
       "      <th>3348</th>\n",
       "      <td>2000</td>\n",
       "      <td>delora</td>\n",
       "      <td>bigglestone</td>\n",
       "      <td>dbigglestonerr@usatoday.com</td>\n",
       "      <td>521</td>\n",
       "      <td>1</td>\n",
       "      <td>74655</td>\n",
       "      <td>crownhardt road</td>\n",
       "      <td>al qarmadah</td>\n",
       "      <td>207</td>\n",
       "      <td>active</td>\n",
       "    </tr>\n",
       "    <tr>\n",
       "      <th>3349</th>\n",
       "      <td>2000</td>\n",
       "      <td>delora</td>\n",
       "      <td>bigglestone</td>\n",
       "      <td>dbigglestonerr@usatoday.com</td>\n",
       "      <td>693</td>\n",
       "      <td>1</td>\n",
       "      <td>7735</td>\n",
       "      <td>claremont point</td>\n",
       "      <td>comrat</td>\n",
       "      <td>129</td>\n",
       "      <td>active</td>\n",
       "    </tr>\n",
       "  </tbody>\n",
       "</table>\n",
       "<p>3350 rows × 11 columns</p>\n",
       "</div>"
      ],
      "text/plain": [
       "      customer_id  first_name    last_name                        email  \\\n",
       "0               1      ursola        purdy           upurdy0@cdbaby.com   \n",
       "1               1      ursola        purdy           upurdy0@cdbaby.com   \n",
       "2               2    ruthanne       vatini            rvatini1@fema.gov   \n",
       "3               2    ruthanne       vatini            rvatini1@fema.gov   \n",
       "4               3      reidar      turbitt       rturbitt2@geocities.jp   \n",
       "...           ...         ...          ...                          ...   \n",
       "3345         1998  georgeanna       garman   ggarmanrp@surveymonkey.com   \n",
       "3346         1999      ardeen        caret             acaretrq@wsj.com   \n",
       "3347         2000      delora  bigglestone  dbigglestonerr@usatoday.com   \n",
       "3348         2000      delora  bigglestone  dbigglestonerr@usatoday.com   \n",
       "3349         2000      delora  bigglestone  dbigglestonerr@usatoday.com   \n",
       "\n",
       "      address_id  address_status_id  street_number          street_name  \\\n",
       "0            359                  1           9923       merrick center   \n",
       "1            962                  1              6          school road   \n",
       "2             77                  1          41492     bartillon circle   \n",
       "3            708                  1              7       thompson point   \n",
       "4             39                  1              7       bellgrove hill   \n",
       "...          ...                ...            ...                  ...   \n",
       "3345         454                  1            725           debs court   \n",
       "3346         636                  1            733       dovetail place   \n",
       "3347          99                  1          53851  meadow valley drive   \n",
       "3348         521                  1          74655      crownhardt road   \n",
       "3349         693                  1           7735      claremont point   \n",
       "\n",
       "             city  country_id address_status  \n",
       "0       kiuruvesi          69         active  \n",
       "1           timrå         194         active  \n",
       "2            klau          92         active  \n",
       "3          ylämaa          69         active  \n",
       "4       sumberejo          92         active  \n",
       "...           ...         ...            ...  \n",
       "3345  radostowice         163         active  \n",
       "3346       suchań         163         active  \n",
       "3347     zvezdara         186         active  \n",
       "3348  al qarmadah         207         active  \n",
       "3349       comrat         129         active  \n",
       "\n",
       "[3350 rows x 11 columns]"
      ]
     },
     "execution_count": 142,
     "metadata": {},
     "output_type": "execute_result"
    }
   ],
   "source": [
    "# MErging customer with customer address ID table\n",
    "\n",
    "customer_data = pd.merge(customer,customer_address_id, how='left',on='customer_id')\n",
    "customer_data = pd.merge(customer_data,customer_address_details,how='left',on='address_id')\n",
    "customer_data = pd.merge(customer_data,address_status,how='left',on='address_status_id')\n",
    "customer_data"
   ]
  },
  {
   "cell_type": "code",
   "execution_count": 143,
   "metadata": {},
   "outputs": [
    {
     "name": "stdout",
     "output_type": "stream",
     "text": [
      "Shape of merged customer data : (3350, 11)\n"
     ]
    }
   ],
   "source": [
    "print(f\"Shape of merged customer data : {customer_data.shape}\")\n"
   ]
  },
  {
   "cell_type": "code",
   "execution_count": 72,
   "metadata": {},
   "outputs": [
    {
     "data": {
      "text/plain": [
       "customer_id          0\n",
       "first_name           0\n",
       "last_name            0\n",
       "email                0\n",
       "address_id           0\n",
       "address_status_id    0\n",
       "street_number        0\n",
       "street_name          0\n",
       "city                 0\n",
       "country_id           0\n",
       "address_status       0\n",
       "dtype: int64"
      ]
     },
     "execution_count": 72,
     "metadata": {},
     "output_type": "execute_result"
    }
   ],
   "source": [
    "customer_data.isnull().sum()"
   ]
  },
  {
   "cell_type": "code",
   "execution_count": 73,
   "metadata": {},
   "outputs": [
    {
     "data": {
      "text/plain": [
       "customer_id           int64\n",
       "first_name           object\n",
       "last_name            object\n",
       "email                object\n",
       "address_id            int64\n",
       "address_status_id     int64\n",
       "street_number         int64\n",
       "street_name          object\n",
       "city                 object\n",
       "country_id            int64\n",
       "address_status       object\n",
       "dtype: object"
      ]
     },
     "execution_count": 73,
     "metadata": {},
     "output_type": "execute_result"
    }
   ],
   "source": [
    "customer_data.dtypes"
   ]
  },
  {
   "cell_type": "code",
   "execution_count": 144,
   "metadata": {},
   "outputs": [
    {
     "name": "stdout",
     "output_type": "stream",
     "text": [
      "shape of cust_order : (7550, 9)\n",
      "shape of shipping_method : (4, 3)\n",
      "shape of order_history : (22349, 7)\n",
      "shape of order_status : (6, 2)\n",
      "shape of order_line : (15400, 4)\n"
     ]
    }
   ],
   "source": [
    "#Cheking the shape of order related tables :\n",
    "\n",
    "print(f\"shape of cust_order : {cust_order.shape}\")\n",
    "print(f\"shape of shipping_method : {shipping_method.shape}\")\n",
    "print(f\"shape of order_history : {order_history.shape}\")\n",
    "print(f\"shape of order_status : {order_status.shape}\")\n",
    "print(f\"shape of order_line : {order_line.shape}\")"
   ]
  },
  {
   "cell_type": "code",
   "execution_count": 145,
   "metadata": {},
   "outputs": [
    {
     "name": "stdout",
     "output_type": "stream",
     "text": [
      "Index(['shipping_method_id', 'method_name', 'cost'], dtype='object')\n"
     ]
    }
   ],
   "source": [
    "# Renaming the column of came data which has different column names\n",
    "\n",
    "shipping_method.rename(columns={'method_id' : 'shipping_method_id'},inplace=True)\n",
    "\n",
    "print(shipping_method.columns)"
   ]
  },
  {
   "cell_type": "code",
   "execution_count": 76,
   "metadata": {},
   "outputs": [
    {
     "data": {
      "text/plain": [
       "shipping_method_id      int64\n",
       "method_name            object\n",
       "cost                  float64\n",
       "dtype: object"
      ]
     },
     "execution_count": 76,
     "metadata": {},
     "output_type": "execute_result"
    }
   ],
   "source": [
    "shipping_method.dtypes"
   ]
  },
  {
   "cell_type": "code",
   "execution_count": 77,
   "metadata": {},
   "outputs": [
    {
     "name": "stdout",
     "output_type": "stream",
     "text": [
      "<class 'pandas.core.frame.DataFrame'>\n",
      "RangeIndex: 7550 entries, 0 to 7549\n",
      "Data columns (total 9 columns):\n",
      " #   Column              Non-Null Count  Dtype         \n",
      "---  ------              --------------  -----         \n",
      " 0   order_id            7550 non-null   int64         \n",
      " 1   order_date          7550 non-null   datetime64[ns]\n",
      " 2   customer_id         7550 non-null   int64         \n",
      " 3   shipping_method_id  7550 non-null   int64         \n",
      " 4   dest_address_id     7550 non-null   int64         \n",
      " 5   order_day           7550 non-null   int32         \n",
      " 6   order_month         7550 non-null   int32         \n",
      " 7   order_year          7550 non-null   int32         \n",
      " 8   order_month_name    7550 non-null   object        \n",
      "dtypes: datetime64[ns](1), int32(3), int64(4), object(1)\n",
      "memory usage: 442.5+ KB\n"
     ]
    }
   ],
   "source": [
    "cust_order.info()"
   ]
  },
  {
   "cell_type": "code",
   "execution_count": 37,
   "metadata": {},
   "outputs": [
    {
     "data": {
      "text/plain": [
       "(7550, 9)"
      ]
     },
     "execution_count": 37,
     "metadata": {},
     "output_type": "execute_result"
    }
   ],
   "source": [
    "cust_order.shape"
   ]
  },
  {
   "cell_type": "code",
   "execution_count": 38,
   "metadata": {},
   "outputs": [
    {
     "data": {
      "text/plain": [
       "(4, 3)"
      ]
     },
     "execution_count": 38,
     "metadata": {},
     "output_type": "execute_result"
    }
   ],
   "source": [
    "shipping_method.shape"
   ]
  },
  {
   "cell_type": "code",
   "execution_count": 146,
   "metadata": {},
   "outputs": [
    {
     "data": {
      "text/plain": [
       "order_id                       int64\n",
       "order_date            datetime64[ns]\n",
       "customer_id                    int64\n",
       "shipping_method_id             int64\n",
       "dest_address_id                int64\n",
       "order_day                      int32\n",
       "order_month                    int32\n",
       "order_year                     int32\n",
       "order_month_name              object\n",
       "method_name                   object\n",
       "cost                         float64\n",
       "dtype: object"
      ]
     },
     "execution_count": 146,
     "metadata": {},
     "output_type": "execute_result"
    }
   ],
   "source": [
    "# Merging order related data into single table:\n",
    "\n",
    "order_data = pd.merge(cust_order,shipping_method,how='left',on='shipping_method_id')\n",
    "order_data['cost'] = pd.to_numeric(order_data['cost'], errors='coerce')\n",
    "\n",
    "order_data.dtypes"
   ]
  },
  {
   "cell_type": "code",
   "execution_count": 147,
   "metadata": {},
   "outputs": [
    {
     "data": {
      "text/plain": [
       "(7550, 11)"
      ]
     },
     "execution_count": 147,
     "metadata": {},
     "output_type": "execute_result"
    }
   ],
   "source": [
    "#cheking shape after merging:\n",
    "order_data.shape"
   ]
  },
  {
   "cell_type": "code",
   "execution_count": 148,
   "metadata": {},
   "outputs": [
    {
     "name": "stdout",
     "output_type": "stream",
     "text": [
      "Index(['history_id', 'order_id', 'status_id', 'status_date', 'hist_status_day',\n",
      "       'hist_status_month', 'hist_status_year'],\n",
      "      dtype='object')\n",
      "(22349, 7)\n"
     ]
    }
   ],
   "source": [
    "#checking shape before merging:\n",
    "print(order_history.columns,order_history.shape,sep='\\n')"
   ]
  },
  {
   "cell_type": "code",
   "execution_count": 149,
   "metadata": {},
   "outputs": [
    {
     "data": {
      "text/plain": [
       "order_id                       int64\n",
       "order_date            datetime64[ns]\n",
       "customer_id                    int64\n",
       "shipping_method_id             int64\n",
       "dest_address_id                int64\n",
       "order_day                      int32\n",
       "order_month                    int32\n",
       "order_year                     int32\n",
       "order_month_name              object\n",
       "method_name                   object\n",
       "cost                         float64\n",
       "history_id                   float64\n",
       "status_id                    float64\n",
       "status_date           datetime64[ns]\n",
       "hist_status_day              float64\n",
       "hist_status_month            float64\n",
       "hist_status_year             float64\n",
       "dtype: object"
      ]
     },
     "execution_count": 149,
     "metadata": {},
     "output_type": "execute_result"
    }
   ],
   "source": [
    "order_data = pd.merge(order_data,order_history,how='left',on='order_id')\n",
    "order_data.dtypes"
   ]
  },
  {
   "cell_type": "code",
   "execution_count": 150,
   "metadata": {},
   "outputs": [
    {
     "name": "stdout",
     "output_type": "stream",
     "text": [
      "Shape after merging : (22350, 17)\n"
     ]
    }
   ],
   "source": [
    "#checking shape after merging:\n",
    "print(f\"Shape after merging : {order_data.shape}\")"
   ]
  },
  {
   "cell_type": "code",
   "execution_count": 151,
   "metadata": {},
   "outputs": [
    {
     "data": {
      "text/plain": [
       "order_id              0\n",
       "order_date            0\n",
       "customer_id           0\n",
       "shipping_method_id    0\n",
       "dest_address_id       0\n",
       "order_day             0\n",
       "order_month           0\n",
       "order_year            0\n",
       "order_month_name      0\n",
       "method_name           0\n",
       "cost                  0\n",
       "history_id            1\n",
       "status_id             1\n",
       "status_date           1\n",
       "hist_status_day       1\n",
       "hist_status_month     1\n",
       "hist_status_year      1\n",
       "dtype: int64"
      ]
     },
     "execution_count": 151,
     "metadata": {},
     "output_type": "execute_result"
    }
   ],
   "source": [
    "order_data.isnull().sum()"
   ]
  },
  {
   "cell_type": "code",
   "execution_count": 152,
   "metadata": {},
   "outputs": [
    {
     "data": {
      "text/html": [
       "<div>\n",
       "<style scoped>\n",
       "    .dataframe tbody tr th:only-of-type {\n",
       "        vertical-align: middle;\n",
       "    }\n",
       "\n",
       "    .dataframe tbody tr th {\n",
       "        vertical-align: top;\n",
       "    }\n",
       "\n",
       "    .dataframe thead th {\n",
       "        text-align: right;\n",
       "    }\n",
       "</style>\n",
       "<table border=\"1\" class=\"dataframe\">\n",
       "  <thead>\n",
       "    <tr style=\"text-align: right;\">\n",
       "      <th></th>\n",
       "      <th>order_id</th>\n",
       "      <th>order_date</th>\n",
       "      <th>customer_id</th>\n",
       "      <th>shipping_method_id</th>\n",
       "      <th>dest_address_id</th>\n",
       "      <th>order_day</th>\n",
       "      <th>order_month</th>\n",
       "      <th>order_year</th>\n",
       "      <th>order_month_name</th>\n",
       "      <th>method_name</th>\n",
       "      <th>cost</th>\n",
       "      <th>history_id</th>\n",
       "      <th>status_id</th>\n",
       "      <th>status_date</th>\n",
       "      <th>hist_status_day</th>\n",
       "      <th>hist_status_month</th>\n",
       "      <th>hist_status_year</th>\n",
       "    </tr>\n",
       "  </thead>\n",
       "  <tbody>\n",
       "    <tr>\n",
       "      <th>3338</th>\n",
       "      <td>1120</td>\n",
       "      <td>2024-12-11 02:42:36</td>\n",
       "      <td>729</td>\n",
       "      <td>1</td>\n",
       "      <td>327</td>\n",
       "      <td>11</td>\n",
       "      <td>12</td>\n",
       "      <td>2024</td>\n",
       "      <td>december</td>\n",
       "      <td>standard</td>\n",
       "      <td>5.9</td>\n",
       "      <td>NaN</td>\n",
       "      <td>NaN</td>\n",
       "      <td>NaT</td>\n",
       "      <td>NaN</td>\n",
       "      <td>NaN</td>\n",
       "      <td>NaN</td>\n",
       "    </tr>\n",
       "  </tbody>\n",
       "</table>\n",
       "</div>"
      ],
      "text/plain": [
       "      order_id          order_date  customer_id  shipping_method_id  \\\n",
       "3338      1120 2024-12-11 02:42:36          729                   1   \n",
       "\n",
       "      dest_address_id  order_day  order_month  order_year order_month_name  \\\n",
       "3338              327         11           12        2024         december   \n",
       "\n",
       "     method_name  cost  history_id  status_id status_date  hist_status_day  \\\n",
       "3338    standard   5.9         NaN        NaN         NaT              NaN   \n",
       "\n",
       "      hist_status_month  hist_status_year  \n",
       "3338                NaN               NaN  "
      ]
     },
     "execution_count": 152,
     "metadata": {},
     "output_type": "execute_result"
    }
   ],
   "source": [
    "order_data[order_data.isnull().any(axis=1)]"
   ]
  },
  {
   "cell_type": "code",
   "execution_count": 156,
   "metadata": {},
   "outputs": [
    {
     "data": {
      "text/plain": [
       "order_id                       int64\n",
       "order_date            datetime64[ns]\n",
       "customer_id                    int64\n",
       "shipping_method_id             int64\n",
       "dest_address_id                int64\n",
       "order_day                      int32\n",
       "order_month                    int32\n",
       "order_year                     int32\n",
       "order_month_name              object\n",
       "method_name                   object\n",
       "cost                         float64\n",
       "history_id                     int64\n",
       "status_id                      int64\n",
       "status_date           datetime64[ns]\n",
       "hist_status_day                int64\n",
       "hist_status_month              int64\n",
       "hist_status_year               int64\n",
       "dtype: object"
      ]
     },
     "execution_count": 156,
     "metadata": {},
     "output_type": "execute_result"
    }
   ],
   "source": [
    "# Converting dtypes to int for int columns:\n",
    "\n",
    "order_data['history_id'] = order_data['history_id'].fillna(0).astype(int)\n",
    "order_data['status_id'] = order_data['status_id'].fillna(0).astype(int)\n",
    "order_data['hist_status_day'] = order_data['hist_status_day'].fillna(0).astype(int)\n",
    "order_data['hist_status_month'] = order_data['hist_status_month'].fillna(0).astype(int)\n",
    "order_data['hist_status_year'] = order_data['hist_status_year'].fillna(0).astype(int)\n",
    "order_data.dtypes"
   ]
  },
  {
   "cell_type": "code",
   "execution_count": 175,
   "metadata": {},
   "outputs": [],
   "source": [
    "order_data_1 = order_data.copy()"
   ]
  },
  {
   "cell_type": "code",
   "execution_count": 176,
   "metadata": {},
   "outputs": [
    {
     "data": {
      "text/plain": [
       "Index(['order_status_id', 'status_value'], dtype='object')"
      ]
     },
     "execution_count": 176,
     "metadata": {},
     "output_type": "execute_result"
    }
   ],
   "source": [
    "order_status.columns"
   ]
  },
  {
   "cell_type": "code",
   "execution_count": 178,
   "metadata": {},
   "outputs": [
    {
     "data": {
      "text/plain": [
       "Index(['order_id', 'order_date', 'customer_id', 'shipping_method_id',\n",
       "       'dest_address_id', 'order_day', 'order_month', 'order_year',\n",
       "       'order_month_name', 'method_name', 'cost', 'history_id', 'status_id',\n",
       "       'status_date', 'hist_status_day', 'hist_status_month',\n",
       "       'hist_status_year'],\n",
       "      dtype='object')"
      ]
     },
     "execution_count": 178,
     "metadata": {},
     "output_type": "execute_result"
    }
   ],
   "source": [
    "order_data_1.columns"
   ]
  },
  {
   "cell_type": "code",
   "execution_count": 179,
   "metadata": {},
   "outputs": [],
   "source": [
    "order_status.rename(columns={'status_id' : 'order_status_id'},inplace=True)"
   ]
  },
  {
   "cell_type": "code",
   "execution_count": 180,
   "metadata": {},
   "outputs": [
    {
     "data": {
      "text/plain": [
       "array([1, 2, 3, 4, 5, 6])"
      ]
     },
     "execution_count": 180,
     "metadata": {},
     "output_type": "execute_result"
    }
   ],
   "source": [
    "order_status['order_status_id'].unique()"
   ]
  },
  {
   "cell_type": "code",
   "execution_count": 181,
   "metadata": {},
   "outputs": [
    {
     "data": {
      "text/plain": [
       "array([1, 2, 3, 4, 5, 6, 0])"
      ]
     },
     "execution_count": 181,
     "metadata": {},
     "output_type": "execute_result"
    }
   ],
   "source": [
    "order_data_1['status_id'].unique()"
   ]
  },
  {
   "cell_type": "code",
   "execution_count": 182,
   "metadata": {},
   "outputs": [
    {
     "data": {
      "text/plain": [
       "((6, 2), (22350, 17))"
      ]
     },
     "execution_count": 182,
     "metadata": {},
     "output_type": "execute_result"
    }
   ],
   "source": [
    "order_status.shape,order_data_1.shape"
   ]
  },
  {
   "cell_type": "code",
   "execution_count": 183,
   "metadata": {},
   "outputs": [
    {
     "name": "stdout",
     "output_type": "stream",
     "text": [
      "The columns are not identical in content or order.\n"
     ]
    }
   ],
   "source": [
    "if order_data_1['status_id'].equals(order_status['order_status_id']):\n",
    "    print(\"Both columns are identical in content and order.\")\n",
    "else:\n",
    "    print(\"The columns are not identical in content or order.\")"
   ]
  },
  {
   "cell_type": "markdown",
   "metadata": {},
   "source": [
    "This is because we have filled the missing values with 0 so both the column unique values are not the same. SO merging will not happen properly."
   ]
  },
  {
   "cell_type": "code",
   "execution_count": 184,
   "metadata": {},
   "outputs": [
    {
     "name": "stdout",
     "output_type": "stream",
     "text": [
      "The columns now match for valid values.\n"
     ]
    }
   ],
   "source": [
    "# Remove the extra value from order_data\n",
    "order_data_2 = order_data_1[order_data_1['status_id'] != 0].copy()\n",
    "\n",
    "# Re-check for equality\n",
    "if order_data_2['status_id'].isin(order_status['order_status_id']).all():\n",
    "    print(\"The columns now match for valid values.\")\n",
    "else:\n",
    "    print(\"Some valid values still do not match.\")\n"
   ]
  },
  {
   "cell_type": "code",
   "execution_count": 185,
   "metadata": {},
   "outputs": [
    {
     "name": "stdout",
     "output_type": "stream",
     "text": [
      "Extra values in order_data['status_id']: set()\n",
      "Extra values in order_status['order_status_id']: set()\n"
     ]
    }
   ],
   "source": [
    "# Check for mismatched or extra values\n",
    "extra_in_order_data = set(order_data_2['status_id']) - set(order_status['order_status_id'])\n",
    "extra_in_order_status = set(order_status['order_status_id']) - set(orders_data_2['status_id'])\n",
    "\n",
    "print(f\"Extra values in order_data['status_id']: {extra_in_order_data}\")\n",
    "print(f\"Extra values in order_status['order_status_id']: {extra_in_order_status}\")\n"
   ]
  },
  {
   "cell_type": "code",
   "execution_count": 186,
   "metadata": {},
   "outputs": [
    {
     "data": {
      "text/plain": [
       "array([1, 2, 3, 4, 5, 6])"
      ]
     },
     "execution_count": 186,
     "metadata": {},
     "output_type": "execute_result"
    }
   ],
   "source": [
    "order_data_2['status_id'].unique()"
   ]
  },
  {
   "cell_type": "code",
   "execution_count": 188,
   "metadata": {},
   "outputs": [
    {
     "data": {
      "text/plain": [
       "(22349, 17)"
      ]
     },
     "execution_count": 188,
     "metadata": {},
     "output_type": "execute_result"
    }
   ],
   "source": [
    "# Filter order_data to keep only matching status_id values\n",
    "order_data_3 = order_data_2[order_data_2['status_id'].isin(order_status['order_status_id'])]\n",
    "order_data_3.shape"
   ]
  },
  {
   "cell_type": "code",
   "execution_count": 189,
   "metadata": {},
   "outputs": [
    {
     "name": "stdout",
     "output_type": "stream",
     "text": [
      "<class 'pandas.core.frame.DataFrame'>\n",
      "RangeIndex: 22349 entries, 0 to 22348\n",
      "Data columns (total 19 columns):\n",
      " #   Column              Non-Null Count  Dtype         \n",
      "---  ------              --------------  -----         \n",
      " 0   order_id            22349 non-null  int64         \n",
      " 1   order_date          22349 non-null  datetime64[ns]\n",
      " 2   customer_id         22349 non-null  int64         \n",
      " 3   shipping_method_id  22349 non-null  int64         \n",
      " 4   dest_address_id     22349 non-null  int64         \n",
      " 5   order_day           22349 non-null  int32         \n",
      " 6   order_month         22349 non-null  int32         \n",
      " 7   order_year          22349 non-null  int32         \n",
      " 8   order_month_name    22349 non-null  object        \n",
      " 9   method_name         22349 non-null  object        \n",
      " 10  cost                22349 non-null  float64       \n",
      " 11  history_id          22349 non-null  int64         \n",
      " 12  status_id           22349 non-null  int64         \n",
      " 13  status_date         22349 non-null  datetime64[ns]\n",
      " 14  hist_status_day     22349 non-null  int64         \n",
      " 15  hist_status_month   22349 non-null  int64         \n",
      " 16  hist_status_year    22349 non-null  int64         \n",
      " 17  order_status_id     22349 non-null  int64         \n",
      " 18  status_value        22349 non-null  object        \n",
      "dtypes: datetime64[ns](2), float64(1), int32(3), int64(10), object(3)\n",
      "memory usage: 3.0+ MB\n"
     ]
    }
   ],
   "source": [
    "order_data_4 = pd.merge(order_data_3, order_status, left_on='status_id',right_on='order_status_id', how='left')\n",
    "order_data_4.info()"
   ]
  },
  {
   "cell_type": "code",
   "execution_count": 192,
   "metadata": {},
   "outputs": [
    {
     "data": {
      "text/plain": [
       "((22349, 19), (15400, 4))"
      ]
     },
     "execution_count": 192,
     "metadata": {},
     "output_type": "execute_result"
    }
   ],
   "source": [
    "# checking shape\n",
    "\n",
    "order_data_4.shape,order_line.shape"
   ]
  },
  {
   "cell_type": "code",
   "execution_count": 193,
   "metadata": {},
   "outputs": [
    {
     "data": {
      "text/plain": [
       "Index(['line_id', 'order_id', 'book_id', 'price'], dtype='object')"
      ]
     },
     "execution_count": 193,
     "metadata": {},
     "output_type": "execute_result"
    }
   ],
   "source": [
    "order_line.columns"
   ]
  },
  {
   "cell_type": "code",
   "execution_count": 196,
   "metadata": {},
   "outputs": [
    {
     "data": {
      "text/plain": [
       "order_id              0\n",
       "order_date            0\n",
       "customer_id           0\n",
       "shipping_method_id    0\n",
       "dest_address_id       0\n",
       "order_day             0\n",
       "order_month           0\n",
       "order_year            0\n",
       "order_month_name      0\n",
       "method_name           0\n",
       "cost                  0\n",
       "history_id            0\n",
       "status_id             0\n",
       "status_date           0\n",
       "hist_status_day       0\n",
       "hist_status_month     0\n",
       "hist_status_year      0\n",
       "order_status_id       0\n",
       "status_value          0\n",
       "dtype: int64"
      ]
     },
     "execution_count": 196,
     "metadata": {},
     "output_type": "execute_result"
    }
   ],
   "source": [
    "# Checking for null values before merging:\n",
    "\n",
    "order_data_4.isnull().sum()"
   ]
  },
  {
   "cell_type": "code",
   "execution_count": 195,
   "metadata": {},
   "outputs": [
    {
     "data": {
      "text/plain": [
       "np.int64(0)"
      ]
     },
     "execution_count": 195,
     "metadata": {},
     "output_type": "execute_result"
    }
   ],
   "source": [
    "# checking for null before merging:\n",
    "\n",
    "order_line['order_id'].isnull().sum()"
   ]
  },
  {
   "cell_type": "code",
   "execution_count": 197,
   "metadata": {},
   "outputs": [
    {
     "name": "stdout",
     "output_type": "stream",
     "text": [
      "<class 'pandas.core.frame.DataFrame'>\n",
      "RangeIndex: 22349 entries, 0 to 22348\n",
      "Data columns (total 19 columns):\n",
      " #   Column              Non-Null Count  Dtype         \n",
      "---  ------              --------------  -----         \n",
      " 0   order_id            22349 non-null  int64         \n",
      " 1   order_date          22349 non-null  datetime64[ns]\n",
      " 2   customer_id         22349 non-null  int64         \n",
      " 3   shipping_method_id  22349 non-null  int64         \n",
      " 4   dest_address_id     22349 non-null  int64         \n",
      " 5   order_day           22349 non-null  int32         \n",
      " 6   order_month         22349 non-null  int32         \n",
      " 7   order_year          22349 non-null  int32         \n",
      " 8   order_month_name    22349 non-null  object        \n",
      " 9   method_name         22349 non-null  object        \n",
      " 10  cost                22349 non-null  float64       \n",
      " 11  history_id          22349 non-null  int64         \n",
      " 12  status_id           22349 non-null  int64         \n",
      " 13  status_date         22349 non-null  datetime64[ns]\n",
      " 14  hist_status_day     22349 non-null  int64         \n",
      " 15  hist_status_month   22349 non-null  int64         \n",
      " 16  hist_status_year    22349 non-null  int64         \n",
      " 17  order_status_id     22349 non-null  int64         \n",
      " 18  status_value        22349 non-null  object        \n",
      "dtypes: datetime64[ns](2), float64(1), int32(3), int64(10), object(3)\n",
      "memory usage: 3.0+ MB\n"
     ]
    }
   ],
   "source": [
    "order_data_4.info()"
   ]
  },
  {
   "cell_type": "code",
   "execution_count": 201,
   "metadata": {},
   "outputs": [
    {
     "name": "stdout",
     "output_type": "stream",
     "text": [
      "<class 'pandas.core.frame.DataFrame'>\n",
      "RangeIndex: 45615 entries, 0 to 45614\n",
      "Data columns (total 22 columns):\n",
      " #   Column              Non-Null Count  Dtype         \n",
      "---  ------              --------------  -----         \n",
      " 0   order_id            45615 non-null  int64         \n",
      " 1   order_date          45615 non-null  datetime64[ns]\n",
      " 2   customer_id         45615 non-null  int64         \n",
      " 3   shipping_method_id  45615 non-null  int64         \n",
      " 4   dest_address_id     45615 non-null  int64         \n",
      " 5   order_day           45615 non-null  int32         \n",
      " 6   order_month         45615 non-null  int32         \n",
      " 7   order_year          45615 non-null  int32         \n",
      " 8   order_month_name    45615 non-null  object        \n",
      " 9   method_name         45615 non-null  object        \n",
      " 10  cost                45615 non-null  float64       \n",
      " 11  history_id          45615 non-null  int64         \n",
      " 12  status_id           45615 non-null  int64         \n",
      " 13  status_date         45615 non-null  datetime64[ns]\n",
      " 14  hist_status_day     45615 non-null  int64         \n",
      " 15  hist_status_month   45615 non-null  int64         \n",
      " 16  hist_status_year    45615 non-null  int64         \n",
      " 17  order_status_id     45615 non-null  int64         \n",
      " 18  status_value        45615 non-null  object        \n",
      " 19  line_id             45615 non-null  int64         \n",
      " 20  book_id             45615 non-null  int64         \n",
      " 21  price               45615 non-null  float64       \n",
      "dtypes: datetime64[ns](2), float64(2), int32(3), int64(12), object(3)\n",
      "memory usage: 7.1+ MB\n"
     ]
    }
   ],
   "source": [
    "# Merging the order order 4 with order line:\n",
    "\n",
    "order_data_5 = pd.merge(order_data_4, order_line, on='order_id', how='left')\n",
    "\n",
    "order_data_5.info()"
   ]
  },
  {
   "cell_type": "code",
   "execution_count": 213,
   "metadata": {},
   "outputs": [
    {
     "name": "stdout",
     "output_type": "stream",
     "text": [
      "Shape of order_data_5 table : (45615, 22)\n"
     ]
    }
   ],
   "source": [
    "# checking shape after merging:\n",
    "\n",
    "print(f\"Shape of order_data_5 table : {order_data_5.shape}\")"
   ]
  },
  {
   "cell_type": "code",
   "execution_count": null,
   "metadata": {},
   "outputs": [],
   "source": [
    "#print(f\"Shape of Order_status table : {order_status.shape}\\nShape of order_data_5 table : {order_data_5.shape}\")"
   ]
  },
  {
   "cell_type": "code",
   "execution_count": 239,
   "metadata": {},
   "outputs": [],
   "source": [
    "# defining function to check null, shape and info:\n",
    "def basic_check(df,name):\n",
    "    print(\"-\"*50)\n",
    "    print(f\"Shape for {name} : {df.shape}\")\n",
    "    print(\"-\"*50)\n",
    "    print(f\"Column name for {name} : {df.columns}\")\n",
    "    print(\"-\"*50)\n"
   ]
  },
  {
   "cell_type": "code",
   "execution_count": 237,
   "metadata": {},
   "outputs": [
    {
     "name": "stdout",
     "output_type": "stream",
     "text": [
      "--------------------------------------------------\n",
      "Shape for order_data_5 : (45615, 22)\n",
      "--------------------------------------------------\n",
      "Column name for order_data_5 : Index(['order_id', 'order_date', 'customer_id', 'shipping_method_id',\n",
      "       'dest_address_id', 'order_day', 'order_month', 'order_year',\n",
      "       'order_month_name', 'method_name', 'cost', 'history_id', 'status_id',\n",
      "       'status_date', 'hist_status_day', 'hist_status_month',\n",
      "       'hist_status_year', 'order_status_id', 'status_value', 'line_id',\n",
      "       'book_id', 'price'],\n",
      "      dtype='object')\n",
      "--------------------------------------------------\n",
      "unique of order_data_5 : order_id               7549\n",
      "order_date             7547\n",
      "customer_id            1701\n",
      "shipping_method_id        4\n",
      "dest_address_id         726\n",
      "order_day                31\n",
      "order_month              12\n",
      "order_year                4\n",
      "order_month_name         12\n",
      "method_name               4\n",
      "cost                      4\n",
      "history_id            22349\n",
      "status_id                 6\n",
      "status_date           22347\n",
      "hist_status_day          31\n",
      "hist_status_month        12\n",
      "hist_status_year          4\n",
      "order_status_id           6\n",
      "status_value              6\n",
      "line_id               15399\n",
      "book_id                8402\n",
      "price                  2000\n",
      "dtype: int64\n"
     ]
    }
   ],
   "source": [
    "# Checking for shape and columns\n",
    "\n",
    "basic_check(order_data_5,\"order_data_5\")"
   ]
  },
  {
   "cell_type": "code",
   "execution_count": 232,
   "metadata": {},
   "outputs": [
    {
     "name": "stdout",
     "output_type": "stream",
     "text": [
      "<class 'pandas.core.frame.DataFrame'>\n",
      "RangeIndex: 45615 entries, 0 to 45614\n",
      "Data columns (total 22 columns):\n",
      " #   Column              Non-Null Count  Dtype         \n",
      "---  ------              --------------  -----         \n",
      " 0   order_id            45615 non-null  int64         \n",
      " 1   order_date          45615 non-null  datetime64[ns]\n",
      " 2   customer_id         45615 non-null  int64         \n",
      " 3   shipping_method_id  45615 non-null  int64         \n",
      " 4   dest_address_id     45615 non-null  int64         \n",
      " 5   order_day           45615 non-null  int32         \n",
      " 6   order_month         45615 non-null  int32         \n",
      " 7   order_year          45615 non-null  int32         \n",
      " 8   order_month_name    45615 non-null  object        \n",
      " 9   method_name         45615 non-null  object        \n",
      " 10  cost                45615 non-null  float64       \n",
      " 11  history_id          45615 non-null  int64         \n",
      " 12  status_id           45615 non-null  int64         \n",
      " 13  status_date         45615 non-null  datetime64[ns]\n",
      " 14  hist_status_day     45615 non-null  int64         \n",
      " 15  hist_status_month   45615 non-null  int64         \n",
      " 16  hist_status_year    45615 non-null  int64         \n",
      " 17  order_status_id     45615 non-null  int64         \n",
      " 18  status_value        45615 non-null  object        \n",
      " 19  line_id             45615 non-null  int64         \n",
      " 20  book_id             45615 non-null  int64         \n",
      " 21  price               45615 non-null  float64       \n",
      "dtypes: datetime64[ns](2), float64(2), int32(3), int64(12), object(3)\n",
      "memory usage: 7.1+ MB\n"
     ]
    }
   ],
   "source": [
    "order_data_5.info()"
   ]
  },
  {
   "cell_type": "code",
   "execution_count": 233,
   "metadata": {},
   "outputs": [
    {
     "data": {
      "text/plain": [
       "order_id              0\n",
       "order_date            0\n",
       "customer_id           0\n",
       "shipping_method_id    0\n",
       "dest_address_id       0\n",
       "order_day             0\n",
       "order_month           0\n",
       "order_year            0\n",
       "order_month_name      0\n",
       "method_name           0\n",
       "cost                  0\n",
       "history_id            0\n",
       "status_id             0\n",
       "status_date           0\n",
       "hist_status_day       0\n",
       "hist_status_month     0\n",
       "hist_status_year      0\n",
       "order_status_id       0\n",
       "status_value          0\n",
       "line_id               0\n",
       "book_id               0\n",
       "price                 0\n",
       "dtype: int64"
      ]
     },
     "execution_count": 233,
     "metadata": {},
     "output_type": "execute_result"
    }
   ],
   "source": [
    "# checking for null values after merging:\n",
    "\n",
    "order_data_5.isnull().sum()"
   ]
  },
  {
   "cell_type": "markdown",
   "metadata": {},
   "source": [
    "customer : ['customer_id', 'first_name', 'last_name', 'email']\n",
    "--------------------------------------------------\n",
    "cust_order : ['order_id', 'order_date', 'customer_id', 'shipping_method_id', 'dest_address_id']\n",
    "--------------------------------------------------\n",
    "customer_address_id : ['customer_id', 'address_id', 'status_id']\n",
    "--------------------------------------------------\n",
    "customer_address_details : ['address_id', 'street_number', 'street_name', 'city', 'country_id']\n",
    "--------------------------------------------------\n",
    "address_status : ['status_id', 'address_status']\n",
    "--------------------------------------------------\n",
    "order_history : ['history_id', 'order_id', 'status_id', 'status_date']\n",
    "--------------------------------------------------\n",
    "order_line : ['line_id', 'order_id', 'book_id', 'price']\n",
    "--------------------------------------------------\n",
    "order_status : ['status_id', 'status_value']\n",
    "--------------------------------------------------\n",
    "shipping_method : ['method_id', 'method_name', 'cost']\n",
    "--------------------------------------------------\n",
    "book : ['book_id', 'title', 'isbn13', 'language_id', 'num_pages', 'publication_date', 'publisher_id']\n",
    "--------------------------------------------------\n",
    "book_author_id : ['book_id', 'author_id']\n",
    "--------------------------------------------------\n",
    "book_author_name : ['author_id', 'author_name']\n",
    "--------------------------------------------------\n",
    "book_language : ['language_id', 'language_code', 'language_name']\n",
    "--------------------------------------------------\n",
    "publisher : ['publisher_id', 'publisher_name']\n",
    "--------------------------------------------------"
   ]
  },
  {
   "cell_type": "code",
   "execution_count": 240,
   "metadata": {},
   "outputs": [
    {
     "name": "stdout",
     "output_type": "stream",
     "text": [
      "--------------------------------------------------\n",
      "Shape for book : (11127, 10)\n",
      "--------------------------------------------------\n",
      "Column name for book : Index(['book_id', 'title', 'isbn13', 'language_id', 'num_pages',\n",
      "       'publication_date', 'publisher_id', 'publish_day', 'publish_month',\n",
      "       'publish_year'],\n",
      "      dtype='object')\n",
      "--------------------------------------------------\n",
      "--------------------------------------------------\n",
      "Shape for book_author_id : (17642, 2)\n",
      "--------------------------------------------------\n",
      "Column name for book_author_id : Index(['book_id', 'author_id'], dtype='object')\n",
      "--------------------------------------------------\n",
      "--------------------------------------------------\n",
      "Shape for book_author_name : (9235, 2)\n",
      "--------------------------------------------------\n",
      "Column name for book_author_name : Index(['author_id', 'author_name'], dtype='object')\n",
      "--------------------------------------------------\n",
      "--------------------------------------------------\n",
      "Shape for publisher : (2264, 2)\n",
      "--------------------------------------------------\n",
      "Column name for publisher : Index(['publisher_id', 'publisher_name'], dtype='object')\n",
      "--------------------------------------------------\n"
     ]
    }
   ],
   "source": [
    "# basic check:\n",
    "\n",
    "basic_check(book,\"book\")\n",
    "basic_check(book_author_id,\"book_author_id\")\n",
    "basic_check(book_author_name,\"book_author_name\")\n",
    "basic_check(publisher,\"publisher\")"
   ]
  },
  {
   "cell_type": "code",
   "execution_count": 247,
   "metadata": {},
   "outputs": [
    {
     "name": "stdout",
     "output_type": "stream",
     "text": [
      "book_id             0\n",
      "title               0\n",
      "isbn13              0\n",
      "language_id         0\n",
      "num_pages           0\n",
      "publication_date    0\n",
      "publisher_id        0\n",
      "publish_day         0\n",
      "publish_month       0\n",
      "publish_year        0\n",
      "dtype: int64\n",
      "book_id      0\n",
      "author_id    0\n",
      "dtype: int64\n"
     ]
    }
   ],
   "source": [
    "# checking if column has 0 in the id\n",
    "\n",
    "print(book[book['book_id'] == 0].count())\n",
    "print(book_author_id[book_author_id['book_id'] == 0].count())"
   ]
  },
  {
   "cell_type": "code",
   "execution_count": 248,
   "metadata": {},
   "outputs": [
    {
     "data": {
      "text/plain": [
       "book_id                      int64\n",
       "title                       object\n",
       "isbn13                       int64\n",
       "language_id                  int64\n",
       "num_pages                    int64\n",
       "publication_date    datetime64[ns]\n",
       "publisher_id                 int64\n",
       "publish_day                  int32\n",
       "publish_month                int32\n",
       "publish_year                 int32\n",
       "author_id                  float64\n",
       "dtype: object"
      ]
     },
     "execution_count": 248,
     "metadata": {},
     "output_type": "execute_result"
    }
   ],
   "source": [
    "# Merging book and book author table together:\n",
    "\n",
    "book_data = pd.merge(book,book_author_id,how='left',on='book_id')\n",
    "book_data.dtypes"
   ]
  },
  {
   "cell_type": "code",
   "execution_count": 251,
   "metadata": {},
   "outputs": [
    {
     "name": "stdout",
     "output_type": "stream",
     "text": [
      "--------------------------------------------------\n",
      "Shape for Book_data : (18711, 11)\n",
      "--------------------------------------------------\n",
      "Column name for Book_data : Index(['book_id', 'title', 'isbn13', 'language_id', 'num_pages',\n",
      "       'publication_date', 'publisher_id', 'publish_day', 'publish_month',\n",
      "       'publish_year', 'author_id'],\n",
      "      dtype='object')\n",
      "--------------------------------------------------\n"
     ]
    }
   ],
   "source": [
    "# checking shape after merging:\n",
    "\n",
    "basic_check(book_data,\"Book_data\")"
   ]
  },
  {
   "cell_type": "code",
   "execution_count": 252,
   "metadata": {},
   "outputs": [
    {
     "data": {
      "text/plain": [
       "book_id                0\n",
       "title                  0\n",
       "isbn13                 0\n",
       "language_id            0\n",
       "num_pages              0\n",
       "publication_date       0\n",
       "publisher_id           0\n",
       "publish_day            0\n",
       "publish_month          0\n",
       "publish_year           0\n",
       "author_id           1069\n",
       "dtype: int64"
      ]
     },
     "execution_count": 252,
     "metadata": {},
     "output_type": "execute_result"
    }
   ],
   "source": [
    "book_data.isnull().sum()"
   ]
  },
  {
   "cell_type": "code",
   "execution_count": 254,
   "metadata": {},
   "outputs": [
    {
     "name": "stdout",
     "output_type": "stream",
     "text": [
      "<class 'pandas.core.frame.DataFrame'>\n",
      "RangeIndex: 18711 entries, 0 to 18710\n",
      "Data columns (total 11 columns):\n",
      " #   Column            Non-Null Count  Dtype         \n",
      "---  ------            --------------  -----         \n",
      " 0   book_id           18711 non-null  int64         \n",
      " 1   title             18711 non-null  object        \n",
      " 2   isbn13            18711 non-null  int64         \n",
      " 3   language_id       18711 non-null  int64         \n",
      " 4   num_pages         18711 non-null  int64         \n",
      " 5   publication_date  18711 non-null  datetime64[ns]\n",
      " 6   publisher_id      18711 non-null  int64         \n",
      " 7   publish_day       18711 non-null  int32         \n",
      " 8   publish_month     18711 non-null  int32         \n",
      " 9   publish_year      18711 non-null  int32         \n",
      " 10  author_id         17642 non-null  float64       \n",
      "dtypes: datetime64[ns](1), float64(1), int32(3), int64(5), object(1)\n",
      "memory usage: 1.4+ MB\n"
     ]
    }
   ],
   "source": [
    "book_data.info()"
   ]
  },
  {
   "cell_type": "code",
   "execution_count": 255,
   "metadata": {},
   "outputs": [],
   "source": [
    "# Filling the missing values of order id with 0\n",
    "\n",
    "book_data['author_id'] = book_data['author_id'].fillna(0).astype(int)\n"
   ]
  },
  {
   "cell_type": "code",
   "execution_count": 256,
   "metadata": {},
   "outputs": [
    {
     "data": {
      "text/plain": [
       "book_id             0\n",
       "title               0\n",
       "isbn13              0\n",
       "language_id         0\n",
       "num_pages           0\n",
       "publication_date    0\n",
       "publisher_id        0\n",
       "publish_day         0\n",
       "publish_month       0\n",
       "publish_year        0\n",
       "author_id           0\n",
       "dtype: int64"
      ]
     },
     "execution_count": 256,
     "metadata": {},
     "output_type": "execute_result"
    }
   ],
   "source": [
    "book_data.isnull().sum()"
   ]
  },
  {
   "cell_type": "code",
   "execution_count": 257,
   "metadata": {},
   "outputs": [
    {
     "data": {
      "text/plain": [
       "book_id                      int64\n",
       "title                       object\n",
       "isbn13                       int64\n",
       "language_id                  int64\n",
       "num_pages                    int64\n",
       "publication_date    datetime64[ns]\n",
       "publisher_id                 int64\n",
       "publish_day                  int32\n",
       "publish_month                int32\n",
       "publish_year                 int32\n",
       "author_id                    int64\n",
       "dtype: object"
      ]
     },
     "execution_count": 257,
     "metadata": {},
     "output_type": "execute_result"
    }
   ],
   "source": [
    "book_data.dtypes"
   ]
  },
  {
   "cell_type": "code",
   "execution_count": 258,
   "metadata": {},
   "outputs": [
    {
     "name": "stdout",
     "output_type": "stream",
     "text": [
      "--------------------------------------------------\n",
      "Shape for book_data : (18711, 11)\n",
      "--------------------------------------------------\n",
      "Column name for book_data : Index(['book_id', 'title', 'isbn13', 'language_id', 'num_pages',\n",
      "       'publication_date', 'publisher_id', 'publish_day', 'publish_month',\n",
      "       'publish_year', 'author_id'],\n",
      "      dtype='object')\n",
      "--------------------------------------------------\n",
      "--------------------------------------------------\n",
      "Shape for book_author_name : (9235, 2)\n",
      "--------------------------------------------------\n",
      "Column name for book_author_name : Index(['author_id', 'author_name'], dtype='object')\n",
      "--------------------------------------------------\n"
     ]
    }
   ],
   "source": [
    "# Basic check before merging book_data and book_author_name table :\n",
    "\n",
    "basic_check(book_data,\"book_data\")\n",
    "\n",
    "basic_check(book_author_name,\"book_author_name\")\n"
   ]
  },
  {
   "cell_type": "code",
   "execution_count": 259,
   "metadata": {},
   "outputs": [
    {
     "data": {
      "text/plain": [
       "author_id      0\n",
       "author_name    0\n",
       "dtype: int64"
      ]
     },
     "execution_count": 259,
     "metadata": {},
     "output_type": "execute_result"
    }
   ],
   "source": [
    "book_author_name.isnull().sum()"
   ]
  },
  {
   "cell_type": "code",
   "execution_count": 261,
   "metadata": {},
   "outputs": [
    {
     "name": "stdout",
     "output_type": "stream",
     "text": [
      "<class 'pandas.core.frame.DataFrame'>\n",
      "RangeIndex: 18711 entries, 0 to 18710\n",
      "Data columns (total 12 columns):\n",
      " #   Column            Non-Null Count  Dtype         \n",
      "---  ------            --------------  -----         \n",
      " 0   book_id           18711 non-null  int64         \n",
      " 1   title             18711 non-null  object        \n",
      " 2   isbn13            18711 non-null  int64         \n",
      " 3   language_id       18711 non-null  int64         \n",
      " 4   num_pages         18711 non-null  int64         \n",
      " 5   publication_date  18711 non-null  datetime64[ns]\n",
      " 6   publisher_id      18711 non-null  int64         \n",
      " 7   publish_day       18711 non-null  int32         \n",
      " 8   publish_month     18711 non-null  int32         \n",
      " 9   publish_year      18711 non-null  int32         \n",
      " 10  author_id         18711 non-null  int64         \n",
      " 11  author_name       17642 non-null  object        \n",
      "dtypes: datetime64[ns](1), int32(3), int64(6), object(2)\n",
      "memory usage: 1.5+ MB\n"
     ]
    }
   ],
   "source": [
    "# Merging book_data and book_author_name table:\n",
    "\n",
    "book_data = pd.merge(book_data,book_author_name,how='left',on='author_id')\n",
    "\n"
   ]
  },
  {
   "cell_type": "code",
   "execution_count": 262,
   "metadata": {},
   "outputs": [
    {
     "name": "stdout",
     "output_type": "stream",
     "text": [
      "(18711, 12)\n",
      "<class 'pandas.core.frame.DataFrame'>\n",
      "RangeIndex: 18711 entries, 0 to 18710\n",
      "Data columns (total 12 columns):\n",
      " #   Column            Non-Null Count  Dtype         \n",
      "---  ------            --------------  -----         \n",
      " 0   book_id           18711 non-null  int64         \n",
      " 1   title             18711 non-null  object        \n",
      " 2   isbn13            18711 non-null  int64         \n",
      " 3   language_id       18711 non-null  int64         \n",
      " 4   num_pages         18711 non-null  int64         \n",
      " 5   publication_date  18711 non-null  datetime64[ns]\n",
      " 6   publisher_id      18711 non-null  int64         \n",
      " 7   publish_day       18711 non-null  int32         \n",
      " 8   publish_month     18711 non-null  int32         \n",
      " 9   publish_year      18711 non-null  int32         \n",
      " 10  author_id         18711 non-null  int64         \n",
      " 11  author_name       17642 non-null  object        \n",
      "dtypes: datetime64[ns](1), int32(3), int64(6), object(2)\n",
      "memory usage: 1.5+ MB\n",
      "None\n"
     ]
    }
   ],
   "source": [
    "print(book_data.shape)\n",
    "print(book_data.info())"
   ]
  },
  {
   "cell_type": "code",
   "execution_count": 263,
   "metadata": {},
   "outputs": [
    {
     "data": {
      "text/plain": [
       "book_id                0\n",
       "title                  0\n",
       "isbn13                 0\n",
       "language_id            0\n",
       "num_pages              0\n",
       "publication_date       0\n",
       "publisher_id           0\n",
       "publish_day            0\n",
       "publish_month          0\n",
       "publish_year           0\n",
       "author_id              0\n",
       "author_name         1069\n",
       "dtype: int64"
      ]
     },
     "execution_count": 263,
     "metadata": {},
     "output_type": "execute_result"
    }
   ],
   "source": [
    "book_data.isnull().sum()"
   ]
  },
  {
   "cell_type": "code",
   "execution_count": 268,
   "metadata": {},
   "outputs": [],
   "source": [
    "# Filling missing values in author name:\n",
    "\n",
    "book_data['author_name'] = book_data['author_name'].fillna(\"No author\")"
   ]
  },
  {
   "cell_type": "code",
   "execution_count": 269,
   "metadata": {},
   "outputs": [
    {
     "data": {
      "text/plain": [
       "book_id             0\n",
       "title               0\n",
       "isbn13              0\n",
       "language_id         0\n",
       "num_pages           0\n",
       "publication_date    0\n",
       "publisher_id        0\n",
       "publish_day         0\n",
       "publish_month       0\n",
       "publish_year        0\n",
       "author_id           0\n",
       "author_name         0\n",
       "dtype: int64"
      ]
     },
     "execution_count": 269,
     "metadata": {},
     "output_type": "execute_result"
    }
   ],
   "source": [
    "book_data.isnull().sum()"
   ]
  },
  {
   "cell_type": "code",
   "execution_count": 271,
   "metadata": {},
   "outputs": [
    {
     "name": "stdout",
     "output_type": "stream",
     "text": [
      "--------------------------------------------------\n",
      "Shape for book_data : (18711, 12)\n",
      "--------------------------------------------------\n",
      "Column name for book_data : Index(['book_id', 'title', 'isbn13', 'language_id', 'num_pages',\n",
      "       'publication_date', 'publisher_id', 'publish_day', 'publish_month',\n",
      "       'publish_year', 'author_id', 'author_name'],\n",
      "      dtype='object')\n",
      "--------------------------------------------------\n",
      "--------------------------------------------------\n",
      "Shape for book_language : (27, 3)\n",
      "--------------------------------------------------\n",
      "Column name for book_language : Index(['language_id', 'language_code', 'language_name'], dtype='object')\n",
      "--------------------------------------------------\n"
     ]
    }
   ],
   "source": [
    "basic_check(book_data,\"book_data\")\n",
    "basic_check(book_language,\"book_language\")"
   ]
  },
  {
   "cell_type": "code",
   "execution_count": 274,
   "metadata": {},
   "outputs": [
    {
     "data": {
      "text/plain": [
       "language_id      0\n",
       "language_code    0\n",
       "language_name    0\n",
       "dtype: int64"
      ]
     },
     "execution_count": 274,
     "metadata": {},
     "output_type": "execute_result"
    }
   ],
   "source": [
    "book_language.isnull().sum()"
   ]
  },
  {
   "cell_type": "code",
   "execution_count": 275,
   "metadata": {},
   "outputs": [
    {
     "name": "stdout",
     "output_type": "stream",
     "text": [
      "(18711, 14)\n",
      "<class 'pandas.core.frame.DataFrame'>\n",
      "RangeIndex: 18711 entries, 0 to 18710\n",
      "Data columns (total 14 columns):\n",
      " #   Column            Non-Null Count  Dtype         \n",
      "---  ------            --------------  -----         \n",
      " 0   book_id           18711 non-null  int64         \n",
      " 1   title             18711 non-null  object        \n",
      " 2   isbn13            18711 non-null  int64         \n",
      " 3   language_id       18711 non-null  int64         \n",
      " 4   num_pages         18711 non-null  int64         \n",
      " 5   publication_date  18711 non-null  datetime64[ns]\n",
      " 6   publisher_id      18711 non-null  int64         \n",
      " 7   publish_day       18711 non-null  int32         \n",
      " 8   publish_month     18711 non-null  int32         \n",
      " 9   publish_year      18711 non-null  int32         \n",
      " 10  author_id         18711 non-null  int64         \n",
      " 11  author_name       18711 non-null  object        \n",
      " 12  language_code     18711 non-null  object        \n",
      " 13  language_name     18711 non-null  object        \n",
      "dtypes: datetime64[ns](1), int32(3), int64(6), object(4)\n",
      "memory usage: 1.8+ MB\n",
      "None\n"
     ]
    }
   ],
   "source": [
    "# Merging book_data and language table :\n",
    "\n",
    "book_data = pd.merge(book_data,book_language,how='left',on='language_id')\n",
    "\n",
    "print(book_data.shape)\n",
    "print(book_data.info())\n"
   ]
  },
  {
   "cell_type": "code",
   "execution_count": 277,
   "metadata": {},
   "outputs": [
    {
     "data": {
      "text/plain": [
       "book_id             0\n",
       "title               0\n",
       "isbn13              0\n",
       "language_id         0\n",
       "num_pages           0\n",
       "publication_date    0\n",
       "publisher_id        0\n",
       "publish_day         0\n",
       "publish_month       0\n",
       "publish_year        0\n",
       "author_id           0\n",
       "author_name         0\n",
       "language_code       0\n",
       "language_name       0\n",
       "dtype: int64"
      ]
     },
     "execution_count": 277,
     "metadata": {},
     "output_type": "execute_result"
    }
   ],
   "source": [
    "book_data.isnull().sum()"
   ]
  },
  {
   "cell_type": "code",
   "execution_count": 278,
   "metadata": {},
   "outputs": [
    {
     "name": "stdout",
     "output_type": "stream",
     "text": [
      "--------------------------------------------------\n",
      "Shape for book_data : (18711, 14)\n",
      "--------------------------------------------------\n",
      "Column name for book_data : Index(['book_id', 'title', 'isbn13', 'language_id', 'num_pages',\n",
      "       'publication_date', 'publisher_id', 'publish_day', 'publish_month',\n",
      "       'publish_year', 'author_id', 'author_name', 'language_code',\n",
      "       'language_name'],\n",
      "      dtype='object')\n",
      "--------------------------------------------------\n",
      "--------------------------------------------------\n",
      "Shape for publisher : (2264, 2)\n",
      "--------------------------------------------------\n",
      "Column name for publisher : Index(['publisher_id', 'publisher_name'], dtype='object')\n",
      "--------------------------------------------------\n"
     ]
    }
   ],
   "source": [
    "basic_check(book_data,\"book_data\")\n",
    "basic_check(publisher,\"publisher\")"
   ]
  },
  {
   "cell_type": "code",
   "execution_count": 279,
   "metadata": {},
   "outputs": [
    {
     "name": "stdout",
     "output_type": "stream",
     "text": [
      "(18711, 15)\n",
      "<class 'pandas.core.frame.DataFrame'>\n",
      "RangeIndex: 18711 entries, 0 to 18710\n",
      "Data columns (total 15 columns):\n",
      " #   Column            Non-Null Count  Dtype         \n",
      "---  ------            --------------  -----         \n",
      " 0   book_id           18711 non-null  int64         \n",
      " 1   title             18711 non-null  object        \n",
      " 2   isbn13            18711 non-null  int64         \n",
      " 3   language_id       18711 non-null  int64         \n",
      " 4   num_pages         18711 non-null  int64         \n",
      " 5   publication_date  18711 non-null  datetime64[ns]\n",
      " 6   publisher_id      18711 non-null  int64         \n",
      " 7   publish_day       18711 non-null  int32         \n",
      " 8   publish_month     18711 non-null  int32         \n",
      " 9   publish_year      18711 non-null  int32         \n",
      " 10  author_id         18711 non-null  int64         \n",
      " 11  author_name       18711 non-null  object        \n",
      " 12  language_code     18711 non-null  object        \n",
      " 13  language_name     18711 non-null  object        \n",
      " 14  publisher_name    18711 non-null  object        \n",
      "dtypes: datetime64[ns](1), int32(3), int64(6), object(5)\n",
      "memory usage: 1.9+ MB\n",
      "None\n"
     ]
    }
   ],
   "source": [
    "book_data = pd.merge(book_data,publisher,how='left',on='publisher_id')\n",
    "print(book_data.shape)\n",
    "print(book_data.info())\n"
   ]
  },
  {
   "cell_type": "code",
   "execution_count": 280,
   "metadata": {},
   "outputs": [
    {
     "name": "stdout",
     "output_type": "stream",
     "text": [
      "book_id             0\n",
      "title               0\n",
      "isbn13              0\n",
      "language_id         0\n",
      "num_pages           0\n",
      "publication_date    0\n",
      "publisher_id        0\n",
      "publish_day         0\n",
      "publish_month       0\n",
      "publish_year        0\n",
      "author_id           0\n",
      "author_name         0\n",
      "language_code       0\n",
      "language_name       0\n",
      "publisher_name      0\n",
      "dtype: int64\n"
     ]
    }
   ],
   "source": [
    "print(book_data.isnull().sum())\n"
   ]
  },
  {
   "cell_type": "code",
   "execution_count": 282,
   "metadata": {},
   "outputs": [
    {
     "name": "stdout",
     "output_type": "stream",
     "text": [
      "Index(['customer_id', 'first_name', 'last_name', 'email', 'address_id',\n",
      "       'address_status_id', 'street_number', 'street_name', 'city',\n",
      "       'country_id', 'address_status'],\n",
      "      dtype='object')\n",
      "Index(['order_id', 'order_date', 'customer_id', 'shipping_method_id',\n",
      "       'dest_address_id', 'order_day', 'order_month', 'order_year',\n",
      "       'order_month_name', 'method_name', 'cost', 'history_id', 'status_id',\n",
      "       'status_date', 'hist_status_day', 'hist_status_month',\n",
      "       'hist_status_year', 'order_status_id', 'status_value', 'line_id',\n",
      "       'book_id', 'price'],\n",
      "      dtype='object')\n",
      "Index(['book_id', 'title', 'isbn13', 'language_id', 'num_pages',\n",
      "       'publication_date', 'publisher_id', 'publish_day', 'publish_month',\n",
      "       'publish_year', 'author_id', 'author_name', 'language_code',\n",
      "       'language_name', 'publisher_name'],\n",
      "      dtype='object')\n"
     ]
    }
   ],
   "source": [
    "print(customer_data.columns)\n",
    "print(order_data_5.columns)\n",
    "print(book_data.columns)"
   ]
  },
  {
   "cell_type": "code",
   "execution_count": 283,
   "metadata": {},
   "outputs": [
    {
     "name": "stdout",
     "output_type": "stream",
     "text": [
      "customer_id          0\n",
      "first_name           0\n",
      "last_name            0\n",
      "email                0\n",
      "address_id           0\n",
      "address_status_id    0\n",
      "street_number        0\n",
      "street_name          0\n",
      "city                 0\n",
      "country_id           0\n",
      "address_status       0\n",
      "dtype: int64\n",
      "order_id              0\n",
      "order_date            0\n",
      "customer_id           0\n",
      "shipping_method_id    0\n",
      "dest_address_id       0\n",
      "order_day             0\n",
      "order_month           0\n",
      "order_year            0\n",
      "order_month_name      0\n",
      "method_name           0\n",
      "cost                  0\n",
      "history_id            0\n",
      "status_id             0\n",
      "status_date           0\n",
      "hist_status_day       0\n",
      "hist_status_month     0\n",
      "hist_status_year      0\n",
      "order_status_id       0\n",
      "status_value          0\n",
      "line_id               0\n",
      "book_id               0\n",
      "price                 0\n",
      "dtype: int64\n",
      "book_id             0\n",
      "title               0\n",
      "isbn13              0\n",
      "language_id         0\n",
      "num_pages           0\n",
      "publication_date    0\n",
      "publisher_id        0\n",
      "publish_day         0\n",
      "publish_month       0\n",
      "publish_year        0\n",
      "author_id           0\n",
      "author_name         0\n",
      "language_code       0\n",
      "language_name       0\n",
      "publisher_name      0\n",
      "dtype: int64\n"
     ]
    }
   ],
   "source": [
    "print(customer_data.isnull().sum())\n",
    "print(order_data_5.isnull().sum())\n",
    "print(book_data.isnull().sum())"
   ]
  },
  {
   "cell_type": "code",
   "execution_count": 286,
   "metadata": {},
   "outputs": [
    {
     "name": "stdout",
     "output_type": "stream",
     "text": [
      "(45615, 22)\n",
      "(3350, 11)\n",
      "(18711, 15)\n"
     ]
    }
   ],
   "source": [
    "print(order_data_5.shape)\n",
    "print(customer_data.shape)\n",
    "print(book_data.shape)"
   ]
  },
  {
   "cell_type": "code",
   "execution_count": 287,
   "metadata": {},
   "outputs": [
    {
     "name": "stdout",
     "output_type": "stream",
     "text": [
      "(94748, 32)\n",
      "<class 'pandas.core.frame.DataFrame'>\n",
      "RangeIndex: 94748 entries, 0 to 94747\n",
      "Data columns (total 32 columns):\n",
      " #   Column              Non-Null Count  Dtype         \n",
      "---  ------              --------------  -----         \n",
      " 0   order_id            94748 non-null  int64         \n",
      " 1   order_date          94748 non-null  datetime64[ns]\n",
      " 2   customer_id         94748 non-null  int64         \n",
      " 3   shipping_method_id  94748 non-null  int64         \n",
      " 4   dest_address_id     94748 non-null  int64         \n",
      " 5   order_day           94748 non-null  int32         \n",
      " 6   order_month         94748 non-null  int32         \n",
      " 7   order_year          94748 non-null  int32         \n",
      " 8   order_month_name    94748 non-null  object        \n",
      " 9   method_name         94748 non-null  object        \n",
      " 10  cost                94748 non-null  float64       \n",
      " 11  history_id          94748 non-null  int64         \n",
      " 12  status_id           94748 non-null  int64         \n",
      " 13  status_date         94748 non-null  datetime64[ns]\n",
      " 14  hist_status_day     94748 non-null  int64         \n",
      " 15  hist_status_month   94748 non-null  int64         \n",
      " 16  hist_status_year    94748 non-null  int64         \n",
      " 17  order_status_id     94748 non-null  int64         \n",
      " 18  status_value        94748 non-null  object        \n",
      " 19  line_id             94748 non-null  int64         \n",
      " 20  book_id             94748 non-null  int64         \n",
      " 21  price               94748 non-null  float64       \n",
      " 22  first_name          94748 non-null  object        \n",
      " 23  last_name           94748 non-null  object        \n",
      " 24  email               94748 non-null  object        \n",
      " 25  address_id          94748 non-null  int64         \n",
      " 26  address_status_id   94748 non-null  int64         \n",
      " 27  street_number       94748 non-null  int64         \n",
      " 28  street_name         94748 non-null  object        \n",
      " 29  city                94748 non-null  object        \n",
      " 30  country_id          94748 non-null  int64         \n",
      " 31  address_status      94748 non-null  object        \n",
      "dtypes: datetime64[ns](2), float64(2), int32(3), int64(16), object(9)\n",
      "memory usage: 22.0+ MB\n",
      "None\n"
     ]
    }
   ],
   "source": [
    "# creating a master file by merging customer,order and book table:\n",
    "\n",
    "master_data = pd.merge(order_data_5, customer_data, on='customer_id', how='left')\n",
    "\n",
    "print(master_data.shape)\n",
    "print(master_data.info())\n"
   ]
  },
  {
   "cell_type": "code",
   "execution_count": 289,
   "metadata": {},
   "outputs": [
    {
     "name": "stdout",
     "output_type": "stream",
     "text": [
      "(159984, 46)\n",
      "<class 'pandas.core.frame.DataFrame'>\n",
      "RangeIndex: 159984 entries, 0 to 159983\n",
      "Data columns (total 46 columns):\n",
      " #   Column              Non-Null Count   Dtype         \n",
      "---  ------              --------------   -----         \n",
      " 0   order_id            159984 non-null  int64         \n",
      " 1   order_date          159984 non-null  datetime64[ns]\n",
      " 2   customer_id         159984 non-null  int64         \n",
      " 3   shipping_method_id  159984 non-null  int64         \n",
      " 4   dest_address_id     159984 non-null  int64         \n",
      " 5   order_day           159984 non-null  int32         \n",
      " 6   order_month         159984 non-null  int32         \n",
      " 7   order_year          159984 non-null  int32         \n",
      " 8   order_month_name    159984 non-null  object        \n",
      " 9   method_name         159984 non-null  object        \n",
      " 10  cost                159984 non-null  float64       \n",
      " 11  history_id          159984 non-null  int64         \n",
      " 12  status_id           159984 non-null  int64         \n",
      " 13  status_date         159984 non-null  datetime64[ns]\n",
      " 14  hist_status_day     159984 non-null  int64         \n",
      " 15  hist_status_month   159984 non-null  int64         \n",
      " 16  hist_status_year    159984 non-null  int64         \n",
      " 17  order_status_id     159984 non-null  int64         \n",
      " 18  status_value        159984 non-null  object        \n",
      " 19  line_id             159984 non-null  int64         \n",
      " 20  book_id             159984 non-null  int64         \n",
      " 21  price               159984 non-null  float64       \n",
      " 22  first_name          159984 non-null  object        \n",
      " 23  last_name           159984 non-null  object        \n",
      " 24  email               159984 non-null  object        \n",
      " 25  address_id          159984 non-null  int64         \n",
      " 26  address_status_id   159984 non-null  int64         \n",
      " 27  street_number       159984 non-null  int64         \n",
      " 28  street_name         159984 non-null  object        \n",
      " 29  city                159984 non-null  object        \n",
      " 30  country_id          159984 non-null  int64         \n",
      " 31  address_status      159984 non-null  object        \n",
      " 32  title               159984 non-null  object        \n",
      " 33  isbn13              159984 non-null  int64         \n",
      " 34  language_id         159984 non-null  int64         \n",
      " 35  num_pages           159984 non-null  int64         \n",
      " 36  publication_date    159984 non-null  datetime64[ns]\n",
      " 37  publisher_id        159984 non-null  int64         \n",
      " 38  publish_day         159984 non-null  int32         \n",
      " 39  publish_month       159984 non-null  int32         \n",
      " 40  publish_year        159984 non-null  int32         \n",
      " 41  author_id           159984 non-null  int64         \n",
      " 42  author_name         159984 non-null  object        \n",
      " 43  language_code       159984 non-null  object        \n",
      " 44  language_name       159984 non-null  object        \n",
      " 45  publisher_name      159984 non-null  object        \n",
      "dtypes: datetime64[ns](3), float64(2), int32(6), int64(21), object(14)\n",
      "memory usage: 52.5+ MB\n",
      "None\n"
     ]
    }
   ],
   "source": [
    "master_data = pd.merge(master_data, book_data, on='book_id', how='left')\n",
    "\n",
    "print(master_data.shape)\n",
    "print(master_data.info())"
   ]
  },
  {
   "cell_type": "code",
   "execution_count": 290,
   "metadata": {},
   "outputs": [
    {
     "data": {
      "text/plain": [
       "order_id              0\n",
       "order_date            0\n",
       "customer_id           0\n",
       "shipping_method_id    0\n",
       "dest_address_id       0\n",
       "order_day             0\n",
       "order_month           0\n",
       "order_year            0\n",
       "order_month_name      0\n",
       "method_name           0\n",
       "cost                  0\n",
       "history_id            0\n",
       "status_id             0\n",
       "status_date           0\n",
       "hist_status_day       0\n",
       "hist_status_month     0\n",
       "hist_status_year      0\n",
       "order_status_id       0\n",
       "status_value          0\n",
       "line_id               0\n",
       "book_id               0\n",
       "price                 0\n",
       "first_name            0\n",
       "last_name             0\n",
       "email                 0\n",
       "address_id            0\n",
       "address_status_id     0\n",
       "street_number         0\n",
       "street_name           0\n",
       "city                  0\n",
       "country_id            0\n",
       "address_status        0\n",
       "title                 0\n",
       "isbn13                0\n",
       "language_id           0\n",
       "num_pages             0\n",
       "publication_date      0\n",
       "publisher_id          0\n",
       "publish_day           0\n",
       "publish_month         0\n",
       "publish_year          0\n",
       "author_id             0\n",
       "author_name           0\n",
       "language_code         0\n",
       "language_name         0\n",
       "publisher_name        0\n",
       "dtype: int64"
      ]
     },
     "execution_count": 290,
     "metadata": {},
     "output_type": "execute_result"
    }
   ],
   "source": [
    "master_data.isnull().sum()"
   ]
  },
  {
   "cell_type": "code",
   "execution_count": 294,
   "metadata": {},
   "outputs": [],
   "source": [
    "pd.set_option('display.max_columns',None)"
   ]
  },
  {
   "cell_type": "code",
   "execution_count": 295,
   "metadata": {},
   "outputs": [
    {
     "data": {
      "text/html": [
       "<div>\n",
       "<style scoped>\n",
       "    .dataframe tbody tr th:only-of-type {\n",
       "        vertical-align: middle;\n",
       "    }\n",
       "\n",
       "    .dataframe tbody tr th {\n",
       "        vertical-align: top;\n",
       "    }\n",
       "\n",
       "    .dataframe thead th {\n",
       "        text-align: right;\n",
       "    }\n",
       "</style>\n",
       "<table border=\"1\" class=\"dataframe\">\n",
       "  <thead>\n",
       "    <tr style=\"text-align: right;\">\n",
       "      <th></th>\n",
       "      <th>order_id</th>\n",
       "      <th>order_date</th>\n",
       "      <th>customer_id</th>\n",
       "      <th>shipping_method_id</th>\n",
       "      <th>dest_address_id</th>\n",
       "      <th>order_day</th>\n",
       "      <th>order_month</th>\n",
       "      <th>order_year</th>\n",
       "      <th>order_month_name</th>\n",
       "      <th>method_name</th>\n",
       "      <th>cost</th>\n",
       "      <th>history_id</th>\n",
       "      <th>status_id</th>\n",
       "      <th>status_date</th>\n",
       "      <th>hist_status_day</th>\n",
       "      <th>hist_status_month</th>\n",
       "      <th>hist_status_year</th>\n",
       "      <th>order_status_id</th>\n",
       "      <th>status_value</th>\n",
       "      <th>line_id</th>\n",
       "      <th>book_id</th>\n",
       "      <th>price</th>\n",
       "      <th>first_name</th>\n",
       "      <th>last_name</th>\n",
       "      <th>email</th>\n",
       "      <th>address_id</th>\n",
       "      <th>address_status_id</th>\n",
       "      <th>street_number</th>\n",
       "      <th>street_name</th>\n",
       "      <th>city</th>\n",
       "      <th>country_id</th>\n",
       "      <th>address_status</th>\n",
       "      <th>title</th>\n",
       "      <th>isbn13</th>\n",
       "      <th>language_id</th>\n",
       "      <th>num_pages</th>\n",
       "      <th>publication_date</th>\n",
       "      <th>publisher_id</th>\n",
       "      <th>publish_day</th>\n",
       "      <th>publish_month</th>\n",
       "      <th>publish_year</th>\n",
       "      <th>author_id</th>\n",
       "      <th>author_name</th>\n",
       "      <th>language_code</th>\n",
       "      <th>language_name</th>\n",
       "      <th>publisher_name</th>\n",
       "    </tr>\n",
       "  </thead>\n",
       "  <tbody>\n",
       "    <tr>\n",
       "      <th>58225</th>\n",
       "      <td>4332</td>\n",
       "      <td>2023-05-26 21:19:19</td>\n",
       "      <td>1413</td>\n",
       "      <td>4</td>\n",
       "      <td>76</td>\n",
       "      <td>26</td>\n",
       "      <td>5</td>\n",
       "      <td>2023</td>\n",
       "      <td>may</td>\n",
       "      <td>international</td>\n",
       "      <td>24.5</td>\n",
       "      <td>9975</td>\n",
       "      <td>2</td>\n",
       "      <td>2023-05-28 21:10:06</td>\n",
       "      <td>28</td>\n",
       "      <td>5</td>\n",
       "      <td>2023</td>\n",
       "      <td>2</td>\n",
       "      <td>pending delivery</td>\n",
       "      <td>5342</td>\n",
       "      <td>8876</td>\n",
       "      <td>19.82</td>\n",
       "      <td>gherardo</td>\n",
       "      <td>sirey</td>\n",
       "      <td>gsireybg@digg.com</td>\n",
       "      <td>454</td>\n",
       "      <td>2</td>\n",
       "      <td>725</td>\n",
       "      <td>debs court</td>\n",
       "      <td>radostowice</td>\n",
       "      <td>163</td>\n",
       "      <td>inactive</td>\n",
       "      <td>batman: arkham asylum - a serious house on ser...</td>\n",
       "      <td>9781401204259</td>\n",
       "      <td>1</td>\n",
       "      <td>216</td>\n",
       "      <td>2005-01-11</td>\n",
       "      <td>506</td>\n",
       "      <td>11</td>\n",
       "      <td>1</td>\n",
       "      <td>2005</td>\n",
       "      <td>3083</td>\n",
       "      <td>grant morrison</td>\n",
       "      <td>eng</td>\n",
       "      <td>english</td>\n",
       "      <td>dc comics</td>\n",
       "    </tr>\n",
       "    <tr>\n",
       "      <th>110803</th>\n",
       "      <td>8234</td>\n",
       "      <td>2024-05-26 04:06:32</td>\n",
       "      <td>1136</td>\n",
       "      <td>4</td>\n",
       "      <td>13</td>\n",
       "      <td>26</td>\n",
       "      <td>5</td>\n",
       "      <td>2024</td>\n",
       "      <td>may</td>\n",
       "      <td>international</td>\n",
       "      <td>24.5</td>\n",
       "      <td>19737</td>\n",
       "      <td>3</td>\n",
       "      <td>2024-05-27 01:14:16</td>\n",
       "      <td>27</td>\n",
       "      <td>5</td>\n",
       "      <td>2024</td>\n",
       "      <td>3</td>\n",
       "      <td>delivery in progress</td>\n",
       "      <td>10579</td>\n",
       "      <td>10775</td>\n",
       "      <td>17.79</td>\n",
       "      <td>clarine</td>\n",
       "      <td>pryer</td>\n",
       "      <td>cpryer3r@google.nl</td>\n",
       "      <td>13</td>\n",
       "      <td>1</td>\n",
       "      <td>238</td>\n",
       "      <td>corscot alley</td>\n",
       "      <td>trstenik</td>\n",
       "      <td>186</td>\n",
       "      <td>active</td>\n",
       "      <td>the stand: das letzte gefecht</td>\n",
       "      <td>9783404134113</td>\n",
       "      <td>10</td>\n",
       "      <td>1227</td>\n",
       "      <td>2003-09-01</td>\n",
       "      <td>217</td>\n",
       "      <td>1</td>\n",
       "      <td>9</td>\n",
       "      <td>2003</td>\n",
       "      <td>8222</td>\n",
       "      <td>stephen king</td>\n",
       "      <td>ger</td>\n",
       "      <td>german</td>\n",
       "      <td>bastei lübbe</td>\n",
       "    </tr>\n",
       "    <tr>\n",
       "      <th>1552</th>\n",
       "      <td>60</td>\n",
       "      <td>2022-06-24 09:32:00</td>\n",
       "      <td>1373</td>\n",
       "      <td>2</td>\n",
       "      <td>18</td>\n",
       "      <td>24</td>\n",
       "      <td>6</td>\n",
       "      <td>2022</td>\n",
       "      <td>june</td>\n",
       "      <td>priority</td>\n",
       "      <td>8.9</td>\n",
       "      <td>13645</td>\n",
       "      <td>2</td>\n",
       "      <td>2022-06-25 02:13:20</td>\n",
       "      <td>25</td>\n",
       "      <td>6</td>\n",
       "      <td>2022</td>\n",
       "      <td>2</td>\n",
       "      <td>pending delivery</td>\n",
       "      <td>9621</td>\n",
       "      <td>9593</td>\n",
       "      <td>14.80</td>\n",
       "      <td>ulrick</td>\n",
       "      <td>de andreis</td>\n",
       "      <td>udeandreisac@plala.or.jp</td>\n",
       "      <td>18</td>\n",
       "      <td>1</td>\n",
       "      <td>119</td>\n",
       "      <td>morning park</td>\n",
       "      <td>esparza</td>\n",
       "      <td>50</td>\n",
       "      <td>active</td>\n",
       "      <td>the letters of vita sackville-west and virgini...</td>\n",
       "      <td>9781573441964</td>\n",
       "      <td>1</td>\n",
       "      <td>480</td>\n",
       "      <td>2004-09-30</td>\n",
       "      <td>415</td>\n",
       "      <td>30</td>\n",
       "      <td>9</td>\n",
       "      <td>2004</td>\n",
       "      <td>5391</td>\n",
       "      <td>louise desalvo</td>\n",
       "      <td>eng</td>\n",
       "      <td>english</td>\n",
       "      <td>cleis press</td>\n",
       "    </tr>\n",
       "    <tr>\n",
       "      <th>150903</th>\n",
       "      <td>10764</td>\n",
       "      <td>2024-10-17 05:06:19</td>\n",
       "      <td>1773</td>\n",
       "      <td>1</td>\n",
       "      <td>6</td>\n",
       "      <td>17</td>\n",
       "      <td>10</td>\n",
       "      <td>2024</td>\n",
       "      <td>october</td>\n",
       "      <td>standard</td>\n",
       "      <td>5.9</td>\n",
       "      <td>19979</td>\n",
       "      <td>3</td>\n",
       "      <td>2024-10-19 17:04:06</td>\n",
       "      <td>19</td>\n",
       "      <td>10</td>\n",
       "      <td>2024</td>\n",
       "      <td>3</td>\n",
       "      <td>delivery in progress</td>\n",
       "      <td>14360</td>\n",
       "      <td>9731</td>\n",
       "      <td>7.28</td>\n",
       "      <td>korey</td>\n",
       "      <td>bartomieu</td>\n",
       "      <td>kbartomieulg@shareasale.com</td>\n",
       "      <td>44</td>\n",
       "      <td>1</td>\n",
       "      <td>987</td>\n",
       "      <td>heath place</td>\n",
       "      <td>tshikapa</td>\n",
       "      <td>45</td>\n",
       "      <td>active</td>\n",
       "      <td>understanding media: the extensions of man</td>\n",
       "      <td>9781584230731</td>\n",
       "      <td>2</td>\n",
       "      <td>616</td>\n",
       "      <td>2003-11-01</td>\n",
       "      <td>772</td>\n",
       "      <td>1</td>\n",
       "      <td>11</td>\n",
       "      <td>2003</td>\n",
       "      <td>8908</td>\n",
       "      <td>w. terrence gordon</td>\n",
       "      <td>en-us</td>\n",
       "      <td>united states english</td>\n",
       "      <td>gingko press</td>\n",
       "    </tr>\n",
       "    <tr>\n",
       "      <th>83820</th>\n",
       "      <td>5587</td>\n",
       "      <td>2022-03-10 03:11:19</td>\n",
       "      <td>1025</td>\n",
       "      <td>1</td>\n",
       "      <td>444</td>\n",
       "      <td>10</td>\n",
       "      <td>3</td>\n",
       "      <td>2022</td>\n",
       "      <td>march</td>\n",
       "      <td>standard</td>\n",
       "      <td>5.9</td>\n",
       "      <td>10775</td>\n",
       "      <td>2</td>\n",
       "      <td>2022-03-11 12:43:22</td>\n",
       "      <td>11</td>\n",
       "      <td>3</td>\n",
       "      <td>2022</td>\n",
       "      <td>2</td>\n",
       "      <td>pending delivery</td>\n",
       "      <td>11497</td>\n",
       "      <td>1353</td>\n",
       "      <td>5.89</td>\n",
       "      <td>eleanora</td>\n",
       "      <td>scriviner</td>\n",
       "      <td>escrivinero@gizmodo.com</td>\n",
       "      <td>843</td>\n",
       "      <td>1</td>\n",
       "      <td>548</td>\n",
       "      <td>porter drive</td>\n",
       "      <td>fangtian</td>\n",
       "      <td>42</td>\n",
       "      <td>active</td>\n",
       "      <td>invitation to a beheading</td>\n",
       "      <td>9780141185606</td>\n",
       "      <td>1</td>\n",
       "      <td>192</td>\n",
       "      <td>2015-08-03</td>\n",
       "      <td>1487</td>\n",
       "      <td>3</td>\n",
       "      <td>8</td>\n",
       "      <td>2015</td>\n",
       "      <td>8895</td>\n",
       "      <td>vladimir nabokov</td>\n",
       "      <td>eng</td>\n",
       "      <td>english</td>\n",
       "      <td>penguin books ltd</td>\n",
       "    </tr>\n",
       "  </tbody>\n",
       "</table>\n",
       "</div>"
      ],
      "text/plain": [
       "        order_id          order_date  customer_id  shipping_method_id  \\\n",
       "58225       4332 2023-05-26 21:19:19         1413                   4   \n",
       "110803      8234 2024-05-26 04:06:32         1136                   4   \n",
       "1552          60 2022-06-24 09:32:00         1373                   2   \n",
       "150903     10764 2024-10-17 05:06:19         1773                   1   \n",
       "83820       5587 2022-03-10 03:11:19         1025                   1   \n",
       "\n",
       "        dest_address_id  order_day  order_month  order_year order_month_name  \\\n",
       "58225                76         26            5        2023              may   \n",
       "110803               13         26            5        2024              may   \n",
       "1552                 18         24            6        2022             june   \n",
       "150903                6         17           10        2024          october   \n",
       "83820               444         10            3        2022            march   \n",
       "\n",
       "          method_name  cost  history_id  status_id         status_date  \\\n",
       "58225   international  24.5        9975          2 2023-05-28 21:10:06   \n",
       "110803  international  24.5       19737          3 2024-05-27 01:14:16   \n",
       "1552         priority   8.9       13645          2 2022-06-25 02:13:20   \n",
       "150903       standard   5.9       19979          3 2024-10-19 17:04:06   \n",
       "83820        standard   5.9       10775          2 2022-03-11 12:43:22   \n",
       "\n",
       "        hist_status_day  hist_status_month  hist_status_year  order_status_id  \\\n",
       "58225                28                  5              2023                2   \n",
       "110803               27                  5              2024                3   \n",
       "1552                 25                  6              2022                2   \n",
       "150903               19                 10              2024                3   \n",
       "83820                11                  3              2022                2   \n",
       "\n",
       "                status_value  line_id  book_id  price first_name   last_name  \\\n",
       "58225       pending delivery     5342     8876  19.82   gherardo       sirey   \n",
       "110803  delivery in progress    10579    10775  17.79    clarine       pryer   \n",
       "1552        pending delivery     9621     9593  14.80     ulrick  de andreis   \n",
       "150903  delivery in progress    14360     9731   7.28      korey   bartomieu   \n",
       "83820       pending delivery    11497     1353   5.89   eleanora   scriviner   \n",
       "\n",
       "                              email  address_id  address_status_id  \\\n",
       "58225             gsireybg@digg.com         454                  2   \n",
       "110803           cpryer3r@google.nl          13                  1   \n",
       "1552       udeandreisac@plala.or.jp          18                  1   \n",
       "150903  kbartomieulg@shareasale.com          44                  1   \n",
       "83820       escrivinero@gizmodo.com         843                  1   \n",
       "\n",
       "        street_number    street_name         city  country_id address_status  \\\n",
       "58225             725     debs court  radostowice         163       inactive   \n",
       "110803            238  corscot alley     trstenik         186         active   \n",
       "1552              119   morning park      esparza          50         active   \n",
       "150903            987    heath place     tshikapa          45         active   \n",
       "83820             548   porter drive     fangtian          42         active   \n",
       "\n",
       "                                                    title         isbn13  \\\n",
       "58225   batman: arkham asylum - a serious house on ser...  9781401204259   \n",
       "110803                      the stand: das letzte gefecht  9783404134113   \n",
       "1552    the letters of vita sackville-west and virgini...  9781573441964   \n",
       "150903         understanding media: the extensions of man  9781584230731   \n",
       "83820                           invitation to a beheading  9780141185606   \n",
       "\n",
       "        language_id  num_pages publication_date  publisher_id  publish_day  \\\n",
       "58225             1        216       2005-01-11           506           11   \n",
       "110803           10       1227       2003-09-01           217            1   \n",
       "1552              1        480       2004-09-30           415           30   \n",
       "150903            2        616       2003-11-01           772            1   \n",
       "83820             1        192       2015-08-03          1487            3   \n",
       "\n",
       "        publish_month  publish_year  author_id         author_name  \\\n",
       "58225               1          2005       3083      grant morrison   \n",
       "110803              9          2003       8222        stephen king   \n",
       "1552                9          2004       5391      louise desalvo   \n",
       "150903             11          2003       8908  w. terrence gordon   \n",
       "83820               8          2015       8895    vladimir nabokov   \n",
       "\n",
       "       language_code          language_name     publisher_name  \n",
       "58225            eng                english          dc comics  \n",
       "110803           ger                 german       bastei lübbe  \n",
       "1552             eng                english        cleis press  \n",
       "150903         en-us  united states english       gingko press  \n",
       "83820            eng                english  penguin books ltd  "
      ]
     },
     "execution_count": 295,
     "metadata": {},
     "output_type": "execute_result"
    }
   ],
   "source": [
    "master_data.sample(5)"
   ]
  },
  {
   "cell_type": "code",
   "execution_count": 299,
   "metadata": {},
   "outputs": [],
   "source": [
    "#Converting object column to cat column\n",
    "\n",
    "master_data['method_name'] = master_data['method_name'].astype('category')\n",
    "master_data['status_value'] = master_data['status_value'].astype('category')\n",
    "master_data['address_status'] = master_data['address_status'].astype('category')\n",
    "master_data['language_name'] = master_data['language_name'].astype('category')\n",
    "master_data['publisher_name'] = master_data['publisher_name'].astype('category')\n",
    "master_data['language_code'] = master_data['language_code'].astype('category')"
   ]
  },
  {
   "cell_type": "markdown",
   "metadata": {},
   "source": [
    "**Feature engineering**"
   ]
  },
  {
   "cell_type": "code",
   "execution_count": 339,
   "metadata": {},
   "outputs": [],
   "source": [
    "# Adding column has order or not\n",
    "\n",
    "master_data_1 = master_data.copy()\n"
   ]
  },
  {
   "cell_type": "code",
   "execution_count": 319,
   "metadata": {},
   "outputs": [
    {
     "data": {
      "text/plain": [
       "Index(['order_id', 'order_date', 'customer_id', 'shipping_method_id',\n",
       "       'dest_address_id', 'order_day', 'order_month', 'order_year',\n",
       "       'order_month_name', 'method_name', 'cost', 'history_id', 'status_id',\n",
       "       'status_date', 'hist_status_day', 'hist_status_month',\n",
       "       'hist_status_year', 'order_status_id', 'status_value', 'line_id',\n",
       "       'book_id', 'price', 'first_name', 'last_name', 'email', 'address_id',\n",
       "       'address_status_id', 'street_number', 'street_name', 'city',\n",
       "       'country_id', 'address_status', 'title', 'isbn13', 'language_id',\n",
       "       'num_pages', 'publication_date', 'publisher_id', 'publish_day',\n",
       "       'publish_month', 'publish_year', 'author_id', 'author_name',\n",
       "       'language_code', 'language_name', 'publisher_name'],\n",
       "      dtype='object')"
      ]
     },
     "execution_count": 319,
     "metadata": {},
     "output_type": "execute_result"
    }
   ],
   "source": [
    "master_data_1.columns"
   ]
  },
  {
   "cell_type": "code",
   "execution_count": 340,
   "metadata": {},
   "outputs": [
    {
     "data": {
      "text/plain": [
       "0         2023-08-22\n",
       "1         2023-08-22\n",
       "2         2023-08-22\n",
       "3         2023-08-22\n",
       "4         2023-08-22\n",
       "             ...    \n",
       "159979    2023-08-22\n",
       "159980    2023-08-22\n",
       "159981    2023-08-22\n",
       "159982    2023-02-17\n",
       "159983    2023-02-17\n",
       "Name: order_date, Length: 159984, dtype: object"
      ]
     },
     "execution_count": 340,
     "metadata": {},
     "output_type": "execute_result"
    }
   ],
   "source": [
    "master_data_1['order_date'] = master_data_1['order_date'].dt.date\n",
    "master_data_1['order_date']"
   ]
  },
  {
   "cell_type": "code",
   "execution_count": 325,
   "metadata": {},
   "outputs": [
    {
     "data": {
      "text/plain": [
       "datetime.date(2024, 12, 22)"
      ]
     },
     "execution_count": 325,
     "metadata": {},
     "output_type": "execute_result"
    }
   ],
   "source": [
    "from datetime import datetime\n",
    "\n",
    "datetime.now().date()"
   ]
  },
  {
   "cell_type": "code",
   "execution_count": 341,
   "metadata": {},
   "outputs": [],
   "source": [
    "# Adding column to find the last order date.\n",
    "\n",
    "\n",
    "master_data_1['last_order_date'] = master_data_1.groupby('customer_id')['order_date'].transform('max')\n",
    "\n"
   ]
  },
  {
   "cell_type": "code",
   "execution_count": 342,
   "metadata": {},
   "outputs": [
    {
     "data": {
      "text/plain": [
       "dtype('<M8[ns]')"
      ]
     },
     "execution_count": 342,
     "metadata": {},
     "output_type": "execute_result"
    }
   ],
   "source": [
    "#COnverting to date time type\n",
    "\n",
    "master_data_1['last_order_date'] = pd.to_datetime(master_data_1['last_order_date'])\n",
    "master_data_1['last_order_date'].dtype"
   ]
  },
  {
   "cell_type": "code",
   "execution_count": 347,
   "metadata": {},
   "outputs": [
    {
     "data": {
      "text/plain": [
       "dtype('int64')"
      ]
     },
     "execution_count": 347,
     "metadata": {},
     "output_type": "execute_result"
    }
   ],
   "source": [
    "# Adding column to find number of days from last order:\n",
    "\n",
    "from datetime import datetime\n",
    "\n",
    "today_date =pd.to_datetime(datetime.now().date())\n",
    "\n",
    "master_data_1['recency'] = (today_date - master_data_1['last_order_date']).dt.days\n",
    "\n",
    "master_data_1['recency'].dtype"
   ]
  },
  {
   "cell_type": "code",
   "execution_count": 350,
   "metadata": {},
   "outputs": [],
   "source": [
    "# adding column to find how much each customer has spent totally:\n",
    "\n",
    "master_data_1['spending_of_customer'] = master_data_1.groupby('order_id')['price'].transform('sum')"
   ]
  },
  {
   "cell_type": "code",
   "execution_count": 389,
   "metadata": {},
   "outputs": [
    {
     "data": {
      "text/plain": [
       "datetime.date(2024, 12, 22)"
      ]
     },
     "execution_count": 389,
     "metadata": {},
     "output_type": "execute_result"
    }
   ],
   "source": [
    "today_date =datetime.now().date()\n",
    "today_date"
   ]
  },
  {
   "cell_type": "code",
   "execution_count": 391,
   "metadata": {},
   "outputs": [
    {
     "data": {
      "text/plain": [
       "datetime.date(2024, 9, 22)"
      ]
     },
     "execution_count": 391,
     "metadata": {},
     "output_type": "execute_result"
    }
   ],
   "source": [
    "churn_threshold = (today_date - pd.DateOffset(months=3)).date()\n",
    "churn_threshold"
   ]
  },
  {
   "cell_type": "code",
   "execution_count": 400,
   "metadata": {},
   "outputs": [
    {
     "data": {
      "text/plain": [
       "Timestamp('2024-09-22 00:00:00')"
      ]
     },
     "execution_count": 400,
     "metadata": {},
     "output_type": "execute_result"
    }
   ],
   "source": [
    "churn_threshold"
   ]
  },
  {
   "cell_type": "code",
   "execution_count": 408,
   "metadata": {},
   "outputs": [],
   "source": [
    "# Adding churn column based on created column\n",
    "\n",
    "today_date =pd.to_datetime(datetime.now().date())\n",
    "\n",
    "churn_threshold = (today_date - pd.DateOffset(months=3))\n",
    "\n",
    "def calculate_churn(x):\n",
    "    if x < churn_threshold:\n",
    "        return 1\n",
    "    else:\n",
    "        return 0\n",
    "\n",
    "master_data_1['Churn'] = master_data_1['last_order_date'].apply(calculate_churn)    \n"
   ]
  },
  {
   "cell_type": "code",
   "execution_count": 409,
   "metadata": {},
   "outputs": [
    {
     "data": {
      "text/plain": [
       "Churn\n",
       "1    92992\n",
       "0    66992\n",
       "Name: count, dtype: int64"
      ]
     },
     "execution_count": 409,
     "metadata": {},
     "output_type": "execute_result"
    }
   ],
   "source": [
    "master_data_1['Churn'].value_counts()"
   ]
  },
  {
   "cell_type": "markdown",
   "metadata": {},
   "source": [
    "Churn data seems to be imbalanced data. Need to resample"
   ]
  },
  {
   "cell_type": "code",
   "execution_count": 416,
   "metadata": {},
   "outputs": [],
   "source": [
    "import os\n",
    "\n",
    "path =  os.path.join(os.getcwd(),\"data\",'Merged_data')\n",
    "file  = \"master_data.csv\"\n",
    "\n",
    "os.makedirs(path,exist_ok=True)\n",
    "\n",
    "folder = os.path.join(path,file)\n",
    "\n",
    "\n",
    "master_data_1.to_csv(folder,index=False)"
   ]
  },
  {
   "cell_type": "code",
   "execution_count": null,
   "metadata": {},
   "outputs": [],
   "source": [
    "#Next tep is to divide the date "
   ]
  }
 ],
 "metadata": {
  "kernelspec": {
   "display_name": "myenv",
   "language": "python",
   "name": "python3"
  },
  "language_info": {
   "codemirror_mode": {
    "name": "ipython",
    "version": 3
   },
   "file_extension": ".py",
   "mimetype": "text/x-python",
   "name": "python",
   "nbconvert_exporter": "python",
   "pygments_lexer": "ipython3",
   "version": "3.12.8"
  }
 },
 "nbformat": 4,
 "nbformat_minor": 2
}
